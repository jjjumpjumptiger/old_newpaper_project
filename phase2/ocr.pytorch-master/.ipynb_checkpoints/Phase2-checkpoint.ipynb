{
 "cells": [
  {
   "cell_type": "markdown",
   "id": "357b63c6",
   "metadata": {},
   "source": [
    "### Import and Set up"
   ]
  },
  {
   "cell_type": "code",
   "execution_count": 1,
   "id": "2699584c",
   "metadata": {
    "scrolled": true
   },
   "outputs": [],
   "source": [
    "import numpy as np\n",
    "import torch\n",
    "import torchvision\n",
    "import detectron2\n",
    "import cv2\n",
    "import os\n",
    "import json\n",
    "import random"
   ]
  },
  {
   "cell_type": "code",
   "execution_count": 2,
   "id": "c7a8e38d",
   "metadata": {},
   "outputs": [
    {
     "name": "stdout",
     "output_type": "stream",
     "text": [
      "1.10.1 True\n"
     ]
    }
   ],
   "source": [
    "print(torch.__version__, torch.cuda.is_available())"
   ]
  },
  {
   "cell_type": "code",
   "execution_count": 3,
   "id": "a6d5381e",
   "metadata": {},
   "outputs": [
    {
     "data": {
      "text/plain": [
       "<Logger detectron2 (DEBUG)>"
      ]
     },
     "execution_count": 3,
     "metadata": {},
     "output_type": "execute_result"
    }
   ],
   "source": [
    "# Setup detectron2 logger\n",
    "from detectron2.utils.logger import setup_logger\n",
    "setup_logger()"
   ]
  },
  {
   "cell_type": "code",
   "execution_count": 4,
   "id": "f8ad9d89",
   "metadata": {},
   "outputs": [],
   "source": [
    "# import some common detectron2 utilities\n",
    "from detectron2.data.datasets import register_coco_instances\n",
    "from detectron2 import model_zoo\n",
    "from detectron2.engine import DefaultPredictor\n",
    "from detectron2.config import get_cfg\n",
    "from detectron2.utils.visualizer import Visualizer\n",
    "from detectron2.data import MetadataCatalog, DatasetCatalog"
   ]
  },
  {
   "cell_type": "code",
   "execution_count": 5,
   "id": "6f359fb4",
   "metadata": {},
   "outputs": [],
   "source": [
    "#choose which category to train on\n",
    "category = \"text\""
   ]
  },
  {
   "cell_type": "markdown",
   "id": "dc1d9f3c",
   "metadata": {},
   "source": [
    "### Prepare Dataset (only certain category)\n",
    "Convert VOC xml files into a COCO json format file via VOC2COCO package"
   ]
  },
  {
   "cell_type": "code",
   "execution_count": 6,
   "id": "6a118a82",
   "metadata": {},
   "outputs": [],
   "source": [
    "register_coco_instances(\"newspapers\",{},\"../../VOC2COCO/output_new_\"+category+\".json\",\"../../21S1_URECA_FYP/ST2020-01\")\n",
    "register_coco_instances(\"newspapers_test\",{},\"../../VOC2COCO/output_new_\"+category+\"_test.json\",\"../../21S1_URECA_FYP/ST2020-01\")"
   ]
  },
  {
   "cell_type": "code",
   "execution_count": 7,
   "id": "1e8bbb7a",
   "metadata": {},
   "outputs": [],
   "source": [
    "newspapers_metadata = MetadataCatalog.get(\"newspapers\")"
   ]
  },
  {
   "cell_type": "code",
   "execution_count": 8,
   "id": "18b36939",
   "metadata": {},
   "outputs": [
    {
     "name": "stdout",
     "output_type": "stream",
     "text": [
      "\u001b[32m[02/23 15:36:32 d2.data.datasets.coco]: \u001b[0mLoaded 79 images in COCO format from ../../VOC2COCO/output_new_text.json\n"
     ]
    }
   ],
   "source": [
    "newspapers_dataset_dicts = DatasetCatalog.get(\"newspapers\")"
   ]
  },
  {
   "cell_type": "code",
   "execution_count": 9,
   "id": "804dc690",
   "metadata": {},
   "outputs": [
    {
     "data": {
      "text/plain": [
       "79"
      ]
     },
     "execution_count": 9,
     "metadata": {},
     "output_type": "execute_result"
    }
   ],
   "source": [
    "len(newspapers_dataset_dicts)"
   ]
  },
  {
   "cell_type": "code",
   "execution_count": 10,
   "id": "92de63ab",
   "metadata": {},
   "outputs": [],
   "source": [
    "#visualize current pictures\n",
    "import matplotlib.pyplot as plt"
   ]
  },
  {
   "cell_type": "markdown",
   "id": "20c9f010",
   "metadata": {},
   "source": [
    "### Setting up the model\n",
    "We use a Faster RCNN model with a Resnet 50 backbone"
   ]
  },
  {
   "cell_type": "code",
   "execution_count": 11,
   "id": "e21b9c45",
   "metadata": {},
   "outputs": [
    {
     "name": "stdout",
     "output_type": "stream",
     "text": [
      "\u001b[32m[02/23 15:36:53 d2.engine.defaults]: \u001b[0mModel:\n",
      "GeneralizedRCNN(\n",
      "  (backbone): FPN(\n",
      "    (fpn_lateral2): Conv2d(256, 256, kernel_size=(1, 1), stride=(1, 1))\n",
      "    (fpn_output2): Conv2d(256, 256, kernel_size=(3, 3), stride=(1, 1), padding=(1, 1))\n",
      "    (fpn_lateral3): Conv2d(512, 256, kernel_size=(1, 1), stride=(1, 1))\n",
      "    (fpn_output3): Conv2d(256, 256, kernel_size=(3, 3), stride=(1, 1), padding=(1, 1))\n",
      "    (fpn_lateral4): Conv2d(1024, 256, kernel_size=(1, 1), stride=(1, 1))\n",
      "    (fpn_output4): Conv2d(256, 256, kernel_size=(3, 3), stride=(1, 1), padding=(1, 1))\n",
      "    (fpn_lateral5): Conv2d(2048, 256, kernel_size=(1, 1), stride=(1, 1))\n",
      "    (fpn_output5): Conv2d(256, 256, kernel_size=(3, 3), stride=(1, 1), padding=(1, 1))\n",
      "    (top_block): LastLevelMaxPool()\n",
      "    (bottom_up): ResNet(\n",
      "      (stem): BasicStem(\n",
      "        (conv1): Conv2d(\n",
      "          3, 64, kernel_size=(7, 7), stride=(2, 2), padding=(3, 3), bias=False\n",
      "          (norm): FrozenBatchNorm2d(num_features=64, eps=1e-05)\n",
      "        )\n",
      "      )\n",
      "      (res2): Sequential(\n",
      "        (0): BottleneckBlock(\n",
      "          (shortcut): Conv2d(\n",
      "            64, 256, kernel_size=(1, 1), stride=(1, 1), bias=False\n",
      "            (norm): FrozenBatchNorm2d(num_features=256, eps=1e-05)\n",
      "          )\n",
      "          (conv1): Conv2d(\n",
      "            64, 64, kernel_size=(1, 1), stride=(1, 1), bias=False\n",
      "            (norm): FrozenBatchNorm2d(num_features=64, eps=1e-05)\n",
      "          )\n",
      "          (conv2): Conv2d(\n",
      "            64, 64, kernel_size=(3, 3), stride=(1, 1), padding=(1, 1), bias=False\n",
      "            (norm): FrozenBatchNorm2d(num_features=64, eps=1e-05)\n",
      "          )\n",
      "          (conv3): Conv2d(\n",
      "            64, 256, kernel_size=(1, 1), stride=(1, 1), bias=False\n",
      "            (norm): FrozenBatchNorm2d(num_features=256, eps=1e-05)\n",
      "          )\n",
      "        )\n",
      "        (1): BottleneckBlock(\n",
      "          (conv1): Conv2d(\n",
      "            256, 64, kernel_size=(1, 1), stride=(1, 1), bias=False\n",
      "            (norm): FrozenBatchNorm2d(num_features=64, eps=1e-05)\n",
      "          )\n",
      "          (conv2): Conv2d(\n",
      "            64, 64, kernel_size=(3, 3), stride=(1, 1), padding=(1, 1), bias=False\n",
      "            (norm): FrozenBatchNorm2d(num_features=64, eps=1e-05)\n",
      "          )\n",
      "          (conv3): Conv2d(\n",
      "            64, 256, kernel_size=(1, 1), stride=(1, 1), bias=False\n",
      "            (norm): FrozenBatchNorm2d(num_features=256, eps=1e-05)\n",
      "          )\n",
      "        )\n",
      "        (2): BottleneckBlock(\n",
      "          (conv1): Conv2d(\n",
      "            256, 64, kernel_size=(1, 1), stride=(1, 1), bias=False\n",
      "            (norm): FrozenBatchNorm2d(num_features=64, eps=1e-05)\n",
      "          )\n",
      "          (conv2): Conv2d(\n",
      "            64, 64, kernel_size=(3, 3), stride=(1, 1), padding=(1, 1), bias=False\n",
      "            (norm): FrozenBatchNorm2d(num_features=64, eps=1e-05)\n",
      "          )\n",
      "          (conv3): Conv2d(\n",
      "            64, 256, kernel_size=(1, 1), stride=(1, 1), bias=False\n",
      "            (norm): FrozenBatchNorm2d(num_features=256, eps=1e-05)\n",
      "          )\n",
      "        )\n",
      "      )\n",
      "      (res3): Sequential(\n",
      "        (0): BottleneckBlock(\n",
      "          (shortcut): Conv2d(\n",
      "            256, 512, kernel_size=(1, 1), stride=(2, 2), bias=False\n",
      "            (norm): FrozenBatchNorm2d(num_features=512, eps=1e-05)\n",
      "          )\n",
      "          (conv1): Conv2d(\n",
      "            256, 128, kernel_size=(1, 1), stride=(2, 2), bias=False\n",
      "            (norm): FrozenBatchNorm2d(num_features=128, eps=1e-05)\n",
      "          )\n",
      "          (conv2): Conv2d(\n",
      "            128, 128, kernel_size=(3, 3), stride=(1, 1), padding=(1, 1), bias=False\n",
      "            (norm): FrozenBatchNorm2d(num_features=128, eps=1e-05)\n",
      "          )\n",
      "          (conv3): Conv2d(\n",
      "            128, 512, kernel_size=(1, 1), stride=(1, 1), bias=False\n",
      "            (norm): FrozenBatchNorm2d(num_features=512, eps=1e-05)\n",
      "          )\n",
      "        )\n",
      "        (1): BottleneckBlock(\n",
      "          (conv1): Conv2d(\n",
      "            512, 128, kernel_size=(1, 1), stride=(1, 1), bias=False\n",
      "            (norm): FrozenBatchNorm2d(num_features=128, eps=1e-05)\n",
      "          )\n",
      "          (conv2): Conv2d(\n",
      "            128, 128, kernel_size=(3, 3), stride=(1, 1), padding=(1, 1), bias=False\n",
      "            (norm): FrozenBatchNorm2d(num_features=128, eps=1e-05)\n",
      "          )\n",
      "          (conv3): Conv2d(\n",
      "            128, 512, kernel_size=(1, 1), stride=(1, 1), bias=False\n",
      "            (norm): FrozenBatchNorm2d(num_features=512, eps=1e-05)\n",
      "          )\n",
      "        )\n",
      "        (2): BottleneckBlock(\n",
      "          (conv1): Conv2d(\n",
      "            512, 128, kernel_size=(1, 1), stride=(1, 1), bias=False\n",
      "            (norm): FrozenBatchNorm2d(num_features=128, eps=1e-05)\n",
      "          )\n",
      "          (conv2): Conv2d(\n",
      "            128, 128, kernel_size=(3, 3), stride=(1, 1), padding=(1, 1), bias=False\n",
      "            (norm): FrozenBatchNorm2d(num_features=128, eps=1e-05)\n",
      "          )\n",
      "          (conv3): Conv2d(\n",
      "            128, 512, kernel_size=(1, 1), stride=(1, 1), bias=False\n",
      "            (norm): FrozenBatchNorm2d(num_features=512, eps=1e-05)\n",
      "          )\n",
      "        )\n",
      "        (3): BottleneckBlock(\n",
      "          (conv1): Conv2d(\n",
      "            512, 128, kernel_size=(1, 1), stride=(1, 1), bias=False\n",
      "            (norm): FrozenBatchNorm2d(num_features=128, eps=1e-05)\n",
      "          )\n",
      "          (conv2): Conv2d(\n",
      "            128, 128, kernel_size=(3, 3), stride=(1, 1), padding=(1, 1), bias=False\n",
      "            (norm): FrozenBatchNorm2d(num_features=128, eps=1e-05)\n",
      "          )\n",
      "          (conv3): Conv2d(\n",
      "            128, 512, kernel_size=(1, 1), stride=(1, 1), bias=False\n",
      "            (norm): FrozenBatchNorm2d(num_features=512, eps=1e-05)\n",
      "          )\n",
      "        )\n",
      "      )\n",
      "      (res4): Sequential(\n",
      "        (0): BottleneckBlock(\n",
      "          (shortcut): Conv2d(\n",
      "            512, 1024, kernel_size=(1, 1), stride=(2, 2), bias=False\n",
      "            (norm): FrozenBatchNorm2d(num_features=1024, eps=1e-05)\n",
      "          )\n",
      "          (conv1): Conv2d(\n",
      "            512, 256, kernel_size=(1, 1), stride=(2, 2), bias=False\n",
      "            (norm): FrozenBatchNorm2d(num_features=256, eps=1e-05)\n",
      "          )\n",
      "          (conv2): Conv2d(\n",
      "            256, 256, kernel_size=(3, 3), stride=(1, 1), padding=(1, 1), bias=False\n",
      "            (norm): FrozenBatchNorm2d(num_features=256, eps=1e-05)\n",
      "          )\n",
      "          (conv3): Conv2d(\n",
      "            256, 1024, kernel_size=(1, 1), stride=(1, 1), bias=False\n",
      "            (norm): FrozenBatchNorm2d(num_features=1024, eps=1e-05)\n",
      "          )\n",
      "        )\n",
      "        (1): BottleneckBlock(\n",
      "          (conv1): Conv2d(\n",
      "            1024, 256, kernel_size=(1, 1), stride=(1, 1), bias=False\n",
      "            (norm): FrozenBatchNorm2d(num_features=256, eps=1e-05)\n",
      "          )\n",
      "          (conv2): Conv2d(\n",
      "            256, 256, kernel_size=(3, 3), stride=(1, 1), padding=(1, 1), bias=False\n",
      "            (norm): FrozenBatchNorm2d(num_features=256, eps=1e-05)\n",
      "          )\n",
      "          (conv3): Conv2d(\n",
      "            256, 1024, kernel_size=(1, 1), stride=(1, 1), bias=False\n",
      "            (norm): FrozenBatchNorm2d(num_features=1024, eps=1e-05)\n",
      "          )\n",
      "        )\n",
      "        (2): BottleneckBlock(\n",
      "          (conv1): Conv2d(\n",
      "            1024, 256, kernel_size=(1, 1), stride=(1, 1), bias=False\n",
      "            (norm): FrozenBatchNorm2d(num_features=256, eps=1e-05)\n",
      "          )\n",
      "          (conv2): Conv2d(\n",
      "            256, 256, kernel_size=(3, 3), stride=(1, 1), padding=(1, 1), bias=False\n",
      "            (norm): FrozenBatchNorm2d(num_features=256, eps=1e-05)\n",
      "          )\n",
      "          (conv3): Conv2d(\n",
      "            256, 1024, kernel_size=(1, 1), stride=(1, 1), bias=False\n",
      "            (norm): FrozenBatchNorm2d(num_features=1024, eps=1e-05)\n",
      "          )\n",
      "        )\n",
      "        (3): BottleneckBlock(\n",
      "          (conv1): Conv2d(\n",
      "            1024, 256, kernel_size=(1, 1), stride=(1, 1), bias=False\n",
      "            (norm): FrozenBatchNorm2d(num_features=256, eps=1e-05)\n",
      "          )\n",
      "          (conv2): Conv2d(\n",
      "            256, 256, kernel_size=(3, 3), stride=(1, 1), padding=(1, 1), bias=False\n",
      "            (norm): FrozenBatchNorm2d(num_features=256, eps=1e-05)\n",
      "          )\n",
      "          (conv3): Conv2d(\n",
      "            256, 1024, kernel_size=(1, 1), stride=(1, 1), bias=False\n",
      "            (norm): FrozenBatchNorm2d(num_features=1024, eps=1e-05)\n",
      "          )\n",
      "        )\n",
      "        (4): BottleneckBlock(\n",
      "          (conv1): Conv2d(\n",
      "            1024, 256, kernel_size=(1, 1), stride=(1, 1), bias=False\n",
      "            (norm): FrozenBatchNorm2d(num_features=256, eps=1e-05)\n",
      "          )\n",
      "          (conv2): Conv2d(\n",
      "            256, 256, kernel_size=(3, 3), stride=(1, 1), padding=(1, 1), bias=False\n",
      "            (norm): FrozenBatchNorm2d(num_features=256, eps=1e-05)\n",
      "          )\n",
      "          (conv3): Conv2d(\n",
      "            256, 1024, kernel_size=(1, 1), stride=(1, 1), bias=False\n",
      "            (norm): FrozenBatchNorm2d(num_features=1024, eps=1e-05)\n",
      "          )\n",
      "        )\n",
      "        (5): BottleneckBlock(\n",
      "          (conv1): Conv2d(\n",
      "            1024, 256, kernel_size=(1, 1), stride=(1, 1), bias=False\n",
      "            (norm): FrozenBatchNorm2d(num_features=256, eps=1e-05)\n",
      "          )\n",
      "          (conv2): Conv2d(\n",
      "            256, 256, kernel_size=(3, 3), stride=(1, 1), padding=(1, 1), bias=False\n",
      "            (norm): FrozenBatchNorm2d(num_features=256, eps=1e-05)\n",
      "          )\n",
      "          (conv3): Conv2d(\n",
      "            256, 1024, kernel_size=(1, 1), stride=(1, 1), bias=False\n",
      "            (norm): FrozenBatchNorm2d(num_features=1024, eps=1e-05)\n",
      "          )\n",
      "        )\n",
      "      )\n",
      "      (res5): Sequential(\n",
      "        (0): BottleneckBlock(\n",
      "          (shortcut): Conv2d(\n",
      "            1024, 2048, kernel_size=(1, 1), stride=(2, 2), bias=False\n",
      "            (norm): FrozenBatchNorm2d(num_features=2048, eps=1e-05)\n",
      "          )\n",
      "          (conv1): Conv2d(\n",
      "            1024, 512, kernel_size=(1, 1), stride=(2, 2), bias=False\n",
      "            (norm): FrozenBatchNorm2d(num_features=512, eps=1e-05)\n",
      "          )\n",
      "          (conv2): Conv2d(\n",
      "            512, 512, kernel_size=(3, 3), stride=(1, 1), padding=(1, 1), bias=False\n",
      "            (norm): FrozenBatchNorm2d(num_features=512, eps=1e-05)\n",
      "          )\n",
      "          (conv3): Conv2d(\n",
      "            512, 2048, kernel_size=(1, 1), stride=(1, 1), bias=False\n",
      "            (norm): FrozenBatchNorm2d(num_features=2048, eps=1e-05)\n",
      "          )\n",
      "        )\n",
      "        (1): BottleneckBlock(\n",
      "          (conv1): Conv2d(\n",
      "            2048, 512, kernel_size=(1, 1), stride=(1, 1), bias=False\n",
      "            (norm): FrozenBatchNorm2d(num_features=512, eps=1e-05)\n",
      "          )\n",
      "          (conv2): Conv2d(\n",
      "            512, 512, kernel_size=(3, 3), stride=(1, 1), padding=(1, 1), bias=False\n",
      "            (norm): FrozenBatchNorm2d(num_features=512, eps=1e-05)\n",
      "          )\n",
      "          (conv3): Conv2d(\n",
      "            512, 2048, kernel_size=(1, 1), stride=(1, 1), bias=False\n",
      "            (norm): FrozenBatchNorm2d(num_features=2048, eps=1e-05)\n",
      "          )\n",
      "        )\n",
      "        (2): BottleneckBlock(\n",
      "          (conv1): Conv2d(\n",
      "            2048, 512, kernel_size=(1, 1), stride=(1, 1), bias=False\n",
      "            (norm): FrozenBatchNorm2d(num_features=512, eps=1e-05)\n",
      "          )\n",
      "          (conv2): Conv2d(\n",
      "            512, 512, kernel_size=(3, 3), stride=(1, 1), padding=(1, 1), bias=False\n",
      "            (norm): FrozenBatchNorm2d(num_features=512, eps=1e-05)\n",
      "          )\n",
      "          (conv3): Conv2d(\n",
      "            512, 2048, kernel_size=(1, 1), stride=(1, 1), bias=False\n",
      "            (norm): FrozenBatchNorm2d(num_features=2048, eps=1e-05)\n",
      "          )\n",
      "        )\n",
      "      )\n",
      "    )\n",
      "  )\n",
      "  (proposal_generator): RPN(\n",
      "    (rpn_head): StandardRPNHead(\n",
      "      (conv): Conv2d(\n",
      "        256, 256, kernel_size=(3, 3), stride=(1, 1), padding=(1, 1)\n",
      "        (activation): ReLU()\n",
      "      )\n",
      "      (objectness_logits): Conv2d(256, 3, kernel_size=(1, 1), stride=(1, 1))\n",
      "      (anchor_deltas): Conv2d(256, 12, kernel_size=(1, 1), stride=(1, 1))\n",
      "    )\n",
      "    (anchor_generator): DefaultAnchorGenerator(\n",
      "      (cell_anchors): BufferList()\n",
      "    )\n",
      "  )\n",
      "  (roi_heads): StandardROIHeads(\n",
      "    (box_pooler): ROIPooler(\n",
      "      (level_poolers): ModuleList(\n",
      "        (0): ROIAlign(output_size=(7, 7), spatial_scale=0.25, sampling_ratio=0, aligned=True)\n",
      "        (1): ROIAlign(output_size=(7, 7), spatial_scale=0.125, sampling_ratio=0, aligned=True)\n",
      "        (2): ROIAlign(output_size=(7, 7), spatial_scale=0.0625, sampling_ratio=0, aligned=True)\n",
      "        (3): ROIAlign(output_size=(7, 7), spatial_scale=0.03125, sampling_ratio=0, aligned=True)\n",
      "      )\n",
      "    )\n",
      "    (box_head): FastRCNNConvFCHead(\n",
      "      (flatten): Flatten(start_dim=1, end_dim=-1)\n",
      "      (fc1): Linear(in_features=12544, out_features=1024, bias=True)\n",
      "      (fc_relu1): ReLU()\n",
      "      (fc2): Linear(in_features=1024, out_features=1024, bias=True)\n",
      "      (fc_relu2): ReLU()\n",
      "    )\n",
      "    (box_predictor): FastRCNNOutputLayers(\n",
      "      (cls_score): Linear(in_features=1024, out_features=6, bias=True)\n",
      "      (bbox_pred): Linear(in_features=1024, out_features=20, bias=True)\n",
      "    )\n",
      "  )\n",
      ")\n"
     ]
    },
    {
     "name": "stdout",
     "output_type": "stream",
     "text": [
      "\u001b[32m[02/23 15:36:53 d2.data.datasets.coco]: \u001b[0mLoaded 79 images in COCO format from ../../VOC2COCO/output_new_text.json\n",
      "\u001b[32m[02/23 15:36:53 d2.data.build]: \u001b[0mRemoved 14 images with no usable annotations. 65 images left.\n",
      "\u001b[32m[02/23 15:36:53 d2.data.build]: \u001b[0mDistribution of instances among all 5 categories:\n",
      "\u001b[36m|   category   | #instances   |  category  | #instances   |  category  | #instances   |\n",
      "|:------------:|:-------------|:----------:|:-------------|:----------:|:-------------|\n",
      "|   Headline   | 0            |   Byline   | 0            |   Image    | 0            |\n",
      "| Illustration | 0            |    Text    | 492          |            |              |\n",
      "|    total     | 492          |            |              |            |              |\u001b[0m\n",
      "\u001b[32m[02/23 15:36:53 d2.data.dataset_mapper]: \u001b[0m[DatasetMapper] Augmentations used in training: [ResizeShortestEdge(short_edge_length=(640, 672, 704, 736, 768, 800), max_size=1333, sample_style='choice'), RandomFlip()]\n",
      "\u001b[32m[02/23 15:36:53 d2.data.build]: \u001b[0mUsing training sampler TrainingSampler\n",
      "\u001b[32m[02/23 15:36:53 d2.data.common]: \u001b[0mSerializing 65 elements to byte tensors and concatenating them all ...\n",
      "\u001b[32m[02/23 15:36:53 d2.data.common]: \u001b[0mSerialized dataset takes 0.03 MiB\n"
     ]
    },
    {
     "name": "stderr",
     "output_type": "stream",
     "text": [
      "Skip loading parameter 'roi_heads.box_predictor.cls_score.weight' to the model due to incompatible shapes: (81, 1024) in the checkpoint but (6, 1024) in the model! You might want to double check if this is expected.\n",
      "Skip loading parameter 'roi_heads.box_predictor.cls_score.bias' to the model due to incompatible shapes: (81,) in the checkpoint but (6,) in the model! You might want to double check if this is expected.\n",
      "Skip loading parameter 'roi_heads.box_predictor.bbox_pred.weight' to the model due to incompatible shapes: (320, 1024) in the checkpoint but (20, 1024) in the model! You might want to double check if this is expected.\n",
      "Skip loading parameter 'roi_heads.box_predictor.bbox_pred.bias' to the model due to incompatible shapes: (320,) in the checkpoint but (20,) in the model! You might want to double check if this is expected.\n",
      "Some model parameters or buffers are not found in the checkpoint:\n",
      "\u001b[34mroi_heads.box_predictor.bbox_pred.{bias, weight}\u001b[0m\n",
      "\u001b[34mroi_heads.box_predictor.cls_score.{bias, weight}\u001b[0m\n"
     ]
    }
   ],
   "source": [
    "from detectron2.engine import DefaultTrainer\n",
    "\n",
    "cfg = get_cfg()\n",
    "config_name = \"COCO-Detection/faster_rcnn_R_50_FPN_1x.yaml\"\n",
    "cfg.merge_from_file(model_zoo.get_config_file(config_name))\n",
    "cfg.DATASETS.TRAIN = (\"newspapers\",)\n",
    "cfg.DATASETS.TEST = (\"newspapers_test\",)\n",
    "cfg.DATALOADER.NUM_WORKERS = 2\n",
    "cfg.MODEL.WEIGHTS = model_zoo.get_checkpoint_url(config_name) \n",
    "cfg.SOLVER.IMS_PER_BATCH = 2\n",
    "cfg.SOLVER.BASE_LR = 0.00025  \n",
    "cfg.SOLVER.MAX_ITER = 500    \n",
    "cfg.SOLVER.STEPS = []        \n",
    "cfg.MODEL.ROI_HEADS.BATCH_SIZE_PER_IMAGE = 128\n",
    "cfg.MODEL.ROI_HEADS.NUM_CLASSES = 5\n",
    "\n",
    "os.makedirs(cfg.OUTPUT_DIR, exist_ok=True)\n",
    "trainer = DefaultTrainer(cfg)\n",
    "trainer.resume_or_load(resume=False)"
   ]
  },
  {
   "cell_type": "code",
   "execution_count": 12,
   "id": "434ff8fb",
   "metadata": {},
   "outputs": [
    {
     "name": "stdout",
     "output_type": "stream",
     "text": [
      "\u001b[32m[02/23 15:36:58 d2.engine.train_loop]: \u001b[0mStarting training from iteration 0\n"
     ]
    },
    {
     "name": "stderr",
     "output_type": "stream",
     "text": [
      "/home/students/s121md105_05/anaconda3/envs/ureca/lib/python3.8/site-packages/detectron2/structures/image_list.py:88: UserWarning: __floordiv__ is deprecated, and its behavior will change in a future version of pytorch. It currently rounds toward 0 (like the 'trunc' function NOT 'floor'). This results in incorrect rounding for negative values. To keep the current behavior, use torch.div(a, b, rounding_mode='trunc'), or for actual floor division, use torch.div(a, b, rounding_mode='floor').\n",
      "  max_size = (max_size + (stride - 1)) // stride * stride\n",
      "/home/students/s121md105_05/anaconda3/envs/ureca/lib/python3.8/site-packages/torch/functional.py:445: UserWarning: torch.meshgrid: in an upcoming release, it will be required to pass the indexing argument. (Triggered internally at  /opt/conda/conda-bld/pytorch_1639180544224/work/aten/src/ATen/native/TensorShape.cpp:2157.)\n",
      "  return _VF.meshgrid(tensors, **kwargs)  # type: ignore[attr-defined]\n"
     ]
    },
    {
     "name": "stdout",
     "output_type": "stream",
     "text": [
      "\u001b[32m[02/23 15:37:10 d2.utils.events]: \u001b[0m eta: 0:01:46  iter: 19  total_loss: 3.219  loss_cls: 1.826  loss_box_reg: 0.2875  loss_rpn_cls: 0.9199  loss_rpn_loc: 0.1314  time: 0.2297  data_time: 0.0818  lr: 9.7405e-06  max_mem: 2309M\n",
      "\u001b[32m[02/23 15:37:15 d2.utils.events]: \u001b[0m eta: 0:01:42  iter: 39  total_loss: 2.734  loss_cls: 1.7  loss_box_reg: 0.284  loss_rpn_cls: 0.5058  loss_rpn_loc: 0.1691  time: 0.2300  data_time: 0.0032  lr: 1.9731e-05  max_mem: 2309M\n",
      "\u001b[32m[02/23 15:37:20 d2.utils.events]: \u001b[0m eta: 0:01:38  iter: 59  total_loss: 2.376  loss_cls: 1.411  loss_box_reg: 0.6197  loss_rpn_cls: 0.2262  loss_rpn_loc: 0.1346  time: 0.2299  data_time: 0.0035  lr: 2.972e-05  max_mem: 2309M\n",
      "\u001b[32m[02/23 15:37:25 d2.utils.events]: \u001b[0m eta: 0:01:34  iter: 79  total_loss: 2.041  loss_cls: 1.114  loss_box_reg: 0.6797  loss_rpn_cls: 0.07762  loss_rpn_loc: 0.05658  time: 0.2375  data_time: 0.0347  lr: 3.9711e-05  max_mem: 2309M\n",
      "\u001b[32m[02/23 15:37:30 d2.utils.events]: \u001b[0m eta: 0:01:30  iter: 99  total_loss: 1.821  loss_cls: 0.8907  loss_box_reg: 0.7241  loss_rpn_cls: 0.08954  loss_rpn_loc: 0.08075  time: 0.2366  data_time: 0.0109  lr: 4.9701e-05  max_mem: 2309M\n",
      "\u001b[32m[02/23 15:37:34 d2.utils.events]: \u001b[0m eta: 0:01:25  iter: 119  total_loss: 1.679  loss_cls: 0.7087  loss_box_reg: 0.795  loss_rpn_cls: 0.08453  loss_rpn_loc: 0.08102  time: 0.2374  data_time: 0.0058  lr: 5.9691e-05  max_mem: 2309M\n",
      "\u001b[32m[02/23 15:37:39 d2.utils.events]: \u001b[0m eta: 0:01:21  iter: 139  total_loss: 1.573  loss_cls: 0.592  loss_box_reg: 0.8137  loss_rpn_cls: 0.07963  loss_rpn_loc: 0.07902  time: 0.2369  data_time: 0.0033  lr: 6.9681e-05  max_mem: 2309M\n",
      "\u001b[32m[02/23 15:37:44 d2.utils.events]: \u001b[0m eta: 0:01:17  iter: 159  total_loss: 1.452  loss_cls: 0.495  loss_box_reg: 0.798  loss_rpn_cls: 0.05421  loss_rpn_loc: 0.09393  time: 0.2361  data_time: 0.0031  lr: 7.9671e-05  max_mem: 2309M\n",
      "\u001b[32m[02/23 15:37:48 d2.utils.events]: \u001b[0m eta: 0:01:12  iter: 179  total_loss: 1.332  loss_cls: 0.4155  loss_box_reg: 0.7345  loss_rpn_cls: 0.06191  loss_rpn_loc: 0.05422  time: 0.2354  data_time: 0.0042  lr: 8.966e-05  max_mem: 2309M\n",
      "\u001b[32m[02/23 15:37:53 d2.utils.events]: \u001b[0m eta: 0:01:08  iter: 199  total_loss: 1.23  loss_cls: 0.3548  loss_box_reg: 0.7452  loss_rpn_cls: 0.04729  loss_rpn_loc: 0.08057  time: 0.2354  data_time: 0.0030  lr: 9.9651e-05  max_mem: 2309M\n",
      "\u001b[32m[02/23 15:37:59 d2.utils.events]: \u001b[0m eta: 0:01:04  iter: 219  total_loss: 1.176  loss_cls: 0.3331  loss_box_reg: 0.6884  loss_rpn_cls: 0.05828  loss_rpn_loc: 0.07186  time: 0.2370  data_time: 0.0137  lr: 0.00010964  max_mem: 2309M\n",
      "\u001b[32m[02/23 15:38:03 d2.utils.events]: \u001b[0m eta: 0:00:59  iter: 239  total_loss: 1.003  loss_cls: 0.2733  loss_box_reg: 0.6037  loss_rpn_cls: 0.05306  loss_rpn_loc: 0.06321  time: 0.2366  data_time: 0.0035  lr: 0.00011963  max_mem: 2309M\n",
      "\u001b[32m[02/23 15:38:08 d2.utils.events]: \u001b[0m eta: 0:00:55  iter: 259  total_loss: 0.9213  loss_cls: 0.262  loss_box_reg: 0.5409  loss_rpn_cls: 0.03988  loss_rpn_loc: 0.07795  time: 0.2363  data_time: 0.0035  lr: 0.00012962  max_mem: 2309M\n",
      "\u001b[32m[02/23 15:38:13 d2.utils.events]: \u001b[0m eta: 0:00:50  iter: 279  total_loss: 0.8005  loss_cls: 0.239  loss_box_reg: 0.4396  loss_rpn_cls: 0.04937  loss_rpn_loc: 0.06952  time: 0.2364  data_time: 0.0127  lr: 0.00013961  max_mem: 2309M\n",
      "\u001b[32m[02/23 15:38:17 d2.utils.events]: \u001b[0m eta: 0:00:45  iter: 299  total_loss: 0.7594  loss_cls: 0.1929  loss_box_reg: 0.4271  loss_rpn_cls: 0.03714  loss_rpn_loc: 0.07631  time: 0.2354  data_time: 0.0030  lr: 0.0001496  max_mem: 2309M\n",
      "\u001b[32m[02/23 15:38:22 d2.utils.events]: \u001b[0m eta: 0:00:41  iter: 319  total_loss: 0.7096  loss_cls: 0.1785  loss_box_reg: 0.3934  loss_rpn_cls: 0.03023  loss_rpn_loc: 0.05908  time: 0.2353  data_time: 0.0033  lr: 0.00015959  max_mem: 2309M\n",
      "\u001b[32m[02/23 15:38:27 d2.utils.events]: \u001b[0m eta: 0:00:36  iter: 339  total_loss: 0.7233  loss_cls: 0.2214  loss_box_reg: 0.3654  loss_rpn_cls: 0.03194  loss_rpn_loc: 0.06002  time: 0.2354  data_time: 0.0032  lr: 0.00016958  max_mem: 2309M\n",
      "\u001b[32m[02/23 15:38:31 d2.utils.events]: \u001b[0m eta: 0:00:32  iter: 359  total_loss: 0.6398  loss_cls: 0.1788  loss_box_reg: 0.3415  loss_rpn_cls: 0.03176  loss_rpn_loc: 0.052  time: 0.2352  data_time: 0.0030  lr: 0.00017957  max_mem: 2309M\n",
      "\u001b[32m[02/23 15:38:36 d2.utils.events]: \u001b[0m eta: 0:00:27  iter: 379  total_loss: 0.4853  loss_cls: 0.143  loss_box_reg: 0.2578  loss_rpn_cls: 0.02623  loss_rpn_loc: 0.04017  time: 0.2353  data_time: 0.0037  lr: 0.00018956  max_mem: 2309M\n",
      "\u001b[32m[02/23 15:38:41 d2.utils.events]: \u001b[0m eta: 0:00:23  iter: 399  total_loss: 0.619  loss_cls: 0.1579  loss_box_reg: 0.3387  loss_rpn_cls: 0.02584  loss_rpn_loc: 0.06993  time: 0.2353  data_time: 0.0030  lr: 0.00019955  max_mem: 2309M\n",
      "\u001b[32m[02/23 15:38:46 d2.utils.events]: \u001b[0m eta: 0:00:18  iter: 419  total_loss: 0.5267  loss_cls: 0.1542  loss_box_reg: 0.3012  loss_rpn_cls: 0.02714  loss_rpn_loc: 0.06817  time: 0.2350  data_time: 0.0052  lr: 0.00020954  max_mem: 2309M\n",
      "\u001b[32m[02/23 15:38:51 d2.utils.events]: \u001b[0m eta: 0:00:13  iter: 439  total_loss: 0.5464  loss_cls: 0.1597  loss_box_reg: 0.2951  loss_rpn_cls: 0.02201  loss_rpn_loc: 0.05795  time: 0.2354  data_time: 0.0049  lr: 0.00021953  max_mem: 2309M\n",
      "\u001b[32m[02/23 15:38:55 d2.utils.events]: \u001b[0m eta: 0:00:09  iter: 459  total_loss: 0.5176  loss_cls: 0.1483  loss_box_reg: 0.2547  loss_rpn_cls: 0.02104  loss_rpn_loc: 0.06522  time: 0.2351  data_time: 0.0029  lr: 0.00022952  max_mem: 2309M\n",
      "\u001b[32m[02/23 15:39:00 d2.utils.events]: \u001b[0m eta: 0:00:04  iter: 479  total_loss: 0.5286  loss_cls: 0.1565  loss_box_reg: 0.2953  loss_rpn_cls: 0.01646  loss_rpn_loc: 0.04202  time: 0.2353  data_time: 0.0031  lr: 0.00023951  max_mem: 2309M\n",
      "\u001b[32m[02/23 15:39:08 d2.utils.events]: \u001b[0m eta: 0:00:00  iter: 499  total_loss: 0.443  loss_cls: 0.1422  loss_box_reg: 0.2473  loss_rpn_cls: 0.01431  loss_rpn_loc: 0.03382  time: 0.2358  data_time: 0.0204  lr: 0.0002495  max_mem: 2309M\n",
      "\u001b[32m[02/23 15:39:10 d2.engine.hooks]: \u001b[0mOverall training speed: 498 iterations in 0:01:57 (0.2358 s / it)\n",
      "\u001b[32m[02/23 15:39:10 d2.engine.hooks]: \u001b[0mTotal training time: 0:02:04 (0:00:06 on hooks)\n",
      "\u001b[32m[02/23 15:39:11 d2.data.datasets.coco]: \u001b[0mLoaded 20 images in COCO format from ../../VOC2COCO/output_new_text_test.json\n",
      "\u001b[32m[02/23 15:39:11 d2.data.build]: \u001b[0mDistribution of instances among all 5 categories:\n",
      "\u001b[36m|   category   | #instances   |  category  | #instances   |  category  | #instances   |\n",
      "|:------------:|:-------------|:----------:|:-------------|:----------:|:-------------|\n",
      "|   Headline   | 0            |   Byline   | 0            |   Image    | 0            |\n",
      "| Illustration | 0            |    Text    | 114          |            |              |\n",
      "|    total     | 114          |            |              |            |              |\u001b[0m\n",
      "\u001b[32m[02/23 15:39:11 d2.data.dataset_mapper]: \u001b[0m[DatasetMapper] Augmentations used in inference: [ResizeShortestEdge(short_edge_length=(800, 800), max_size=1333, sample_style='choice')]\n",
      "\u001b[32m[02/23 15:39:11 d2.data.common]: \u001b[0mSerializing 20 elements to byte tensors and concatenating them all ...\n",
      "\u001b[32m[02/23 15:39:11 d2.data.common]: \u001b[0mSerialized dataset takes 0.01 MiB\n",
      "\u001b[5m\u001b[31mWARNING\u001b[0m \u001b[32m[02/23 15:39:11 d2.engine.defaults]: \u001b[0mNo evaluator found. Use `DefaultTrainer.test(evaluators=)`, or implement its `build_evaluator` method.\n"
     ]
    }
   ],
   "source": [
    "trainer.train()"
   ]
  },
  {
   "cell_type": "code",
   "execution_count": 13,
   "id": "29f666ab",
   "metadata": {},
   "outputs": [],
   "source": [
    "cfg.MODEL.WEIGHTS = os.path.join(cfg.OUTPUT_DIR, \"model_final.pth\") \n",
    "cfg.MODEL.ROI_HEADS.SCORE_THRESH_TEST = 0.5\n",
    "predictor = DefaultPredictor(cfg)"
   ]
  },
  {
   "cell_type": "code",
   "execution_count": 14,
   "id": "1e35536a",
   "metadata": {},
   "outputs": [
    {
     "name": "stdout",
     "output_type": "stream",
     "text": [
      "\u001b[32m[02/23 15:39:11 d2.data.datasets.coco]: \u001b[0mLoaded 20 images in COCO format from ../../VOC2COCO/output_new_text_test.json\n"
     ]
    }
   ],
   "source": [
    "from detectron2.utils.visualizer import ColorMode\n",
    "test_dicts = DatasetCatalog.get(\"newspapers_test\")"
   ]
  },
  {
   "cell_type": "code",
   "execution_count": 15,
   "id": "bd748298",
   "metadata": {},
   "outputs": [],
   "source": [
    "from ocr import ocr\n",
    "import time\n",
    "import shutil\n",
    "from glob import glob\n",
    "from PIL import Image"
   ]
  },
  {
   "cell_type": "code",
   "execution_count": 16,
   "id": "64ef5e47",
   "metadata": {},
   "outputs": [],
   "source": [
    "def image_to_txt(sorted_boxes):\n",
    "    t = time.time()\n",
    "    for i in range(len(sorted_boxes)):\n",
    "        left = round(sorted_boxes[i]['boundary'][0])\n",
    "        top = round(sorted_boxes[i]['boundary'][1])\n",
    "        right = round(sorted_boxes[i]['boundary'][2])\n",
    "        bottom = round(sorted_boxes[i]['boundary'][3])\n",
    "        crop_image = image[top:bottom,left:right]\n",
    "        result, image_framed = ocr(crop_image)\n",
    "        for key in result:\n",
    "            f = open('zc_test/'+'IMG_5841_result.txt', \"a\")\n",
    "            f.write(result[key][1])\n",
    "            f.close()\n",
    "        im = Image.fromarray(image_framed)\n",
    "        im.save('zc_test/IMG_5841_'+str(i)+'_result.png')\n",
    "    print(\"Mission complete, it took {:.3f}s\".format(time.time() - t))"
   ]
  },
  {
   "cell_type": "code",
   "execution_count": 17,
   "id": "3988b4a2",
   "metadata": {},
   "outputs": [],
   "source": [
    "#now only test on the first pic\n",
    "# for d in test_dicts:\n",
    "d = test_dicts[0]\n",
    "#prepare ocr input\n",
    "image = cv2.imread(d[\"file_name\"])\n",
    "output = predictor(image)\n",
    "prediction = output[\"instances\"].to(\"cpu\")\n",
    "boxes = prediction.pred_boxes if prediction.has(\"pred_boxes\") else None\n",
    "scores = prediction.scores if prediction.has(\"scores\") else None\n",
    "boxes_array = boxes.tensor.numpy()\n",
    "scores_array = scores.numpy()\n",
    "centers = boxes.get_centers().numpy()/100\n",
    "unsorted_boxes = []\n",
    "for i in range(len(boxes_array)):\n",
    "    if scores_array[i]>= 0.9:\n",
    "        box = {}\n",
    "        box['score'] = scores_array[i]\n",
    "        box['boundary'] = boxes_array[i]\n",
    "        box['center'] = centers[i]\n",
    "        unsorted_boxes.append(box)\n",
    "sorted_boxes = sorted(unsorted_boxes, key=lambda d: (round(d['center'][0]),d['center'][1]))\n",
    "\n",
    "#OCR\n",
    "# image_to_txt(sorted_boxes)"
   ]
  },
  {
   "cell_type": "code",
   "execution_count": 18,
   "id": "16b42d1a",
   "metadata": {},
   "outputs": [],
   "source": [
    "# centers = boxes.get_centers().numpy()\n",
    "# for i in range(len(boxes_array)):\n",
    "#     if scores_array[i]>= 0.9:\n",
    "#         box = {}\n",
    "#         box['score'] = scores_array[i]\n",
    "#         box['boundary'] = boxes_array[i]\n",
    "#         box['center'] = centers[i]\n",
    "#         unsorted_boxes.append(box)\n",
    "# sorted_boxes = sorted(unsorted_boxes, key=lambda d: (round(d['center'][0]),round(d['center'][1])))\n",
    "\n",
    "# print(sorted_boxes)"
   ]
  },
  {
   "cell_type": "code",
   "execution_count": 19,
   "id": "57124105",
   "metadata": {
    "scrolled": true
   },
   "outputs": [
    {
     "data": {
      "text/plain": [
       "[{'score': 0.9269933,\n",
       "  'boundary': array([ 52.774582, 788.3833  , 437.1979  , 841.5167  ], dtype=float32),\n",
       "  'center': array([2.4498625, 8.1495   ], dtype=float32)},\n",
       " {'score': 0.98374975,\n",
       "  'boundary': array([  52.587376, 1023.6705  ,  274.53967 , 1832.9313  ], dtype=float32),\n",
       "  'center': array([ 1.6356353, 14.283009 ], dtype=float32)},\n",
       " {'score': 0.9629509,\n",
       "  'boundary': array([ 292.38797,  875.15326,  519.76917, 1330.06   ], dtype=float32),\n",
       "  'center': array([ 4.0607853, 11.026067 ], dtype=float32)},\n",
       " {'score': 0.98308796,\n",
       "  'boundary': array([ 292.3332 ,  883.6024 ,  512.49896, 1846.2599 ], dtype=float32),\n",
       "  'center': array([ 4.024161, 13.649311], dtype=float32)},\n",
       " {'score': 0.9567695,\n",
       "  'boundary': array([ 291.04532, 1419.4639 ,  513.5308 , 1850.6077 ], dtype=float32),\n",
       "  'center': array([ 4.022881, 16.350357], dtype=float32)},\n",
       " {'score': 0.93220633,\n",
       "  'boundary': array([ 536.88947, 1260.2172 ,  745.7962 , 1543.2576 ], dtype=float32),\n",
       "  'center': array([ 6.4134283, 14.017373 ], dtype=float32)},\n",
       " {'score': 0.9811808,\n",
       "  'boundary': array([ 532.30774, 1279.3004 ,  750.1687 , 1853.3824 ], dtype=float32),\n",
       "  'center': array([ 6.412382, 15.663414], dtype=float32)},\n",
       " {'score': 0.9334975,\n",
       "  'boundary': array([ 529.2909, 1549.7875,  742.2618, 1845.817 ], dtype=float32),\n",
       "  'center': array([ 6.357764, 16.978022], dtype=float32)},\n",
       " {'score': 0.9460333,\n",
       "  'boundary': array([ 769.5729 , 1259.3904 ,  982.48285, 1468.7449 ], dtype=float32),\n",
       "  'center': array([ 8.760279 , 13.6406765], dtype=float32)},\n",
       " {'score': 0.9826431,\n",
       "  'boundary': array([ 773.0432, 1322.8536,  992.8807, 1856.6195], dtype=float32),\n",
       "  'center': array([ 8.829619, 15.897366], dtype=float32)},\n",
       " {'score': 0.98498046,\n",
       "  'boundary': array([1015.8075, 1264.3586, 1227.8325, 1843.5638], dtype=float32),\n",
       "  'center': array([11.218201, 15.539612], dtype=float32)},\n",
       " {'score': 0.969099,\n",
       "  'boundary': array([1246.6002 ,  313.17917, 1477.9241 , 1040.8651 ], dtype=float32),\n",
       "  'center': array([13.6226225,  6.7702217], dtype=float32)},\n",
       " {'score': 0.9242787,\n",
       "  'boundary': array([1252.2024 ,  168.76927, 1478.0349 , 1776.6959 ], dtype=float32),\n",
       "  'center': array([13.651187,  9.727326], dtype=float32)},\n",
       " {'score': 0.9143184,\n",
       "  'boundary': array([1251.5149, 1365.9637, 1473.1233, 1758.255 ], dtype=float32),\n",
       "  'center': array([13.623191, 15.621094], dtype=float32)}]"
      ]
     },
     "execution_count": 19,
     "metadata": {},
     "output_type": "execute_result"
    }
   ],
   "source": [
    "sorted_boxes"
   ]
  },
  {
   "cell_type": "code",
   "execution_count": 20,
   "id": "41909e5e",
   "metadata": {
    "scrolled": true
   },
   "outputs": [
    {
     "data": {
      "text/plain": [
       "<matplotlib.image.AxesImage at 0x7f57d0915c10>"
      ]
     },
     "execution_count": 20,
     "metadata": {},
     "output_type": "execute_result"
    },
    {
     "data": {
      "image/png": "[encoded data removed]",
      "text/plain": [
       "<Figure size 432x288 with 1 Axes>"
      ]
     },
     "metadata": {
      "needs_background": "light"
     },
     "output_type": "display_data"
    }
   ],
   "source": [
    "plt.imshow(image)"
   ]
  },
  {
   "cell_type": "code",
   "execution_count": 21,
   "id": "141baf20",
   "metadata": {},
   "outputs": [
    {
     "data": {
      "text/plain": [
       "14"
      ]
     },
     "execution_count": 21,
     "metadata": {},
     "output_type": "execute_result"
    }
   ],
   "source": [
    "len(unsorted_boxes)"
   ]
  },
  {
   "cell_type": "code",
   "execution_count": 22,
   "id": "f35f018f",
   "metadata": {},
   "outputs": [],
   "source": [
    "def get_image_boxes(sorted_boxes):\n",
    "    t = time.time()\n",
    "    for i in range(len(sorted_boxes)):\n",
    "        left = round(sorted_boxes[i]['boundary'][0])\n",
    "        top = round(sorted_boxes[i]['boundary'][1])\n",
    "        right = round(sorted_boxes[i]['boundary'][2])\n",
    "        bottom = round(sorted_boxes[i]['boundary'][3])\n",
    "        crop_image = image[top:bottom,left:right]\n",
    "        im = Image.fromarray(crop_image)\n",
    "        im.save('zc_test/IMG_5841_'+str(i)+'.png')\n",
    "    print(\"Mission complete, it took {:.3f}s\".format(time.time() - t))"
   ]
  },
  {
   "cell_type": "code",
   "execution_count": 23,
   "id": "6e7a2747",
   "metadata": {},
   "outputs": [
    {
     "name": "stdout",
     "output_type": "stream",
     "text": [
      "Mission complete, it took 0.320s\n"
     ]
    }
   ],
   "source": [
    "get_image_boxes(sorted_boxes)"
   ]
  },
  {
   "cell_type": "code",
   "execution_count": 31,
   "id": "7ab0113c",
   "metadata": {},
   "outputs": [
    {
     "name": "stdout",
     "output_type": "stream",
     "text": [
      "\u001b[32m[02/23 16:46:05 d2.engine.hooks]: \u001b[0mLoading scheduler from state_dict ...\n",
      "{'instances': Instances(num_instances=19, image_height=2048, image_width=1536, fields=[pred_boxes: Boxes(tensor([[1015.8075, 1264.3586, 1227.8325, 1843.5638],\n",
      "        [  52.5874, 1023.6705,  274.5397, 1832.9313],\n",
      "        [ 292.3332,  883.6024,  512.4990, 1846.2599],\n",
      "        [ 773.0432, 1322.8536,  992.8807, 1856.6195],\n",
      "        [ 532.3077, 1279.3004,  750.1687, 1853.3824],\n",
      "        [1246.6002,  313.1792, 1477.9241, 1040.8651],\n",
      "        [ 292.3880,  875.1533,  519.7692, 1330.0601],\n",
      "        [ 291.0453, 1419.4639,  513.5308, 1850.6077],\n",
      "        [ 769.5729, 1259.3904,  982.4828, 1468.7449],\n",
      "        [ 529.2909, 1549.7875,  742.2618, 1845.8170],\n",
      "        [ 536.8895, 1260.2172,  745.7962, 1543.2576],\n",
      "        [  52.7746,  788.3833,  437.1979,  841.5167],\n",
      "        [1252.2024,  168.7693, 1478.0349, 1776.6959],\n",
      "        [1251.5149, 1365.9637, 1473.1233, 1758.2550],\n",
      "        [1010.7979, 1264.1570, 1229.9276, 1500.1562],\n",
      "        [1248.9607, 1780.1429, 1470.4392, 1856.7875],\n",
      "        [1250.2820,  310.2040, 1462.2528,  643.8713],\n",
      "        [ 639.7595,  710.1191, 1053.4188, 1200.6648],\n",
      "        [  52.4365, 1060.3970,  273.3817, 1320.6537]], device='cuda:0')), scores: tensor([0.9850, 0.9837, 0.9831, 0.9826, 0.9812, 0.9691, 0.9630, 0.9568, 0.9460,\n",
      "        0.9335, 0.9322, 0.9270, 0.9243, 0.9143, 0.8785, 0.8610, 0.6991, 0.5501,\n",
      "        0.5486], device='cuda:0'), pred_classes: tensor([4, 4, 4, 4, 4, 4, 4, 4, 4, 4, 4, 4, 4, 4, 4, 4, 4, 4, 4],\n",
      "       device='cuda:0')])}\n"
     ]
    }
   ],
   "source": [
    "# load checkpoint\n",
    "trainer.resume_or_load(resume=True)\n",
    "predictor = DefaultPredictor(cfg)\n",
    "output = predictor(image)"
   ]
  },
  {
   "cell_type": "code",
   "execution_count": 30,
   "id": "7941542e",
   "metadata": {
    "scrolled": true
   },
   "outputs": [
    {
     "name": "stdout",
     "output_type": "stream",
     "text": [
      "{}\n"
     ]
    }
   ],
   "source": []
  },
  {
   "cell_type": "code",
   "execution_count": null,
   "id": "79867458",
   "metadata": {},
   "outputs": [],
   "source": []
  }
 ],
 "metadata": {
  "kernelspec": {
   "display_name": "ureca",
   "language": "python",
   "name": "ureca"
  },
  "language_info": {
   "codemirror_mode": {
    "name": "ipython",
    "version": 3
   },
   "file_extension": ".py",
   "mimetype": "text/x-python",
   "name": "python",
   "nbconvert_exporter": "python",
   "pygments_lexer": "ipython3",
   "version": "3.8.12"
  }
 },
 "nbformat": 4,
 "nbformat_minor": 5
}
