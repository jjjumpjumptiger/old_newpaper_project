{
 "cells": [
  {
   "cell_type": "code",
   "execution_count": 1,
   "id": "1baf8abd",
   "metadata": {},
   "outputs": [
    {
     "name": "stderr",
     "output_type": "stream",
     "text": [
      "The checkpoint state_dict contains keys that are not used by the model:\n",
      "  \u001b[35mpixel_mean\u001b[0m\n",
      "  \u001b[35mpixel_std\u001b[0m\n"
     ]
    }
   ],
   "source": [
    "import layoutparser as lp\n",
    "import cv2\n",
    "import pytesseract\n",
    "pytesseract.pytesseract.tesseract_cmd = r'/home/students/s121md105_05/tesseract-binary/bin/tesseract'\n",
    "\n",
    "#load segmentation model\n",
    "model = lp.Detectron2LayoutModel('lp://PrimaLayout/mask_rcnn_R_50_FPN_3x/config', \n",
    "                                 extra_config=[\"MODEL.ROI_HEADS.SCORE_THRESH_TEST\", 0.8],\n",
    "                                 label_map={1:\"TextRegion\", 2:\"ImageRegion\", 3:\"TableRegion\", 4:\"MathsRegion\", 5:\"SeparatorRegion\", 6:\"OtherRegion\"})"
   ]
  },
  {
   "cell_type": "code",
   "execution_count": 2,
   "id": "69f95c27",
   "metadata": {},
   "outputs": [],
   "source": [
    "#load image\n",
    "image_path = \"../../21S1_URECA_FYP/ST2020-01/IMG_5604.PNG\"\n",
    "image = cv2.imread(image_path)\n",
    "image = image[..., ::-1]"
   ]
  },
  {
   "cell_type": "code",
   "execution_count": 3,
   "id": "c0086149",
   "metadata": {
    "scrolled": true
   },
   "outputs": [
    {
     "name": "stderr",
     "output_type": "stream",
     "text": [
      "/home/students/s121md105_05/anaconda3/envs/ureca/lib/python3.8/site-packages/detectron2/structures/image_list.py:88: UserWarning: __floordiv__ is deprecated, and its behavior will change in a future version of pytorch. It currently rounds toward 0 (like the 'trunc' function NOT 'floor'). This results in incorrect rounding for negative values. To keep the current behavior, use torch.div(a, b, rounding_mode='trunc'), or for actual floor division, use torch.div(a, b, rounding_mode='floor').\n",
      "  max_size = (max_size + (stride - 1)) // stride * stride\n",
      "/home/students/s121md105_05/anaconda3/envs/ureca/lib/python3.8/site-packages/torch/functional.py:445: UserWarning: torch.meshgrid: in an upcoming release, it will be required to pass the indexing argument. (Triggered internally at  /opt/conda/conda-bld/pytorch_1639180544224/work/aten/src/ATen/native/TensorShape.cpp:2157.)\n",
      "  return _VF.meshgrid(tensors, **kwargs)  # type: ignore[attr-defined]\n"
     ]
    }
   ],
   "source": [
    "#output of detection\n",
    "layout = model.detect(image)"
   ]
  },
  {
   "cell_type": "code",
   "execution_count": 6,
   "id": "dd3e8642",
   "metadata": {},
   "outputs": [],
   "source": [
    "#seperate image and text\n",
    "# images = []\n",
    "text = []\n",
    "for output in layout:\n",
    "    if output.type == 'TextRegion':\n",
    "        text.append(output)\n",
    "#     else:\n",
    "#         images.append(output)"
   ]
  },
  {
   "cell_type": "code",
   "execution_count": 17,
   "id": "9f5886c3",
   "metadata": {},
   "outputs": [],
   "source": [
    "import math\n",
    "\n",
    "#prepare ocr input\n",
    "unsorted_boxes = []\n",
    "for i in text:\n",
    "    if i.score>= 0.9:\n",
    "        box = {}\n",
    "        box['score'] = i.score\n",
    "        box['boundary'] = [(math.floor(i.block.x_1),math.floor(i.block.y_1)),(math.ceil(i.block.x_2),math.ceil(i.block.y_2))]\n",
    "        box['center'] = ((i.block.x_1+i.block.x_2)/2,(i.block.y_1+i.block.y_2)/2)\n",
    "        unsorted_boxes.append(box)\n",
    "# sorted_boxes = sorted(unsorted_boxes, key=lambda d: (round(d['center'][0]),d['center'][1]))"
   ]
  },
  {
   "cell_type": "code",
   "execution_count": 26,
   "id": "9cd77894",
   "metadata": {},
   "outputs": [
    {
     "name": "stdout",
     "output_type": "stream",
     "text": [
      "plucked from hundreds in the British Museum's hoard of items on reserve. It came to the museum in the 1950s, excavated by aman with the fitting name of John Valentine  Calin \n",
      "\n",
      "Staff at the British Museum hope the cup display, which opened earlier this month, will leave visitors thinking about the growing consequences of our love for the disposable. \n",
      "\n",
      "“Just like us, they didn’t want to wash up,” curator Julia Farley said of the Minoans who dumped thousands of the clay vessels as they built an advanced Bronze Age civilisation marked by palaces, written language and lavish art. \n",
      "\n",
      "made from washed-up beach garbage is meant as a commentary on pollution, the museum says. Photographs from around the Pacific will capture the massive amounts of plastic collecting in the ocean. \n",
      "\n",
      "Made of clay, it may have held wine before it was thrown out after anancient party on the island of Crete in Greece \n",
      "\n",
      "The museum said In a statement hat it is trying to reduce its impact on the environment by recycling or Jurning waste and converting it to \n",
      "\n",
      "“Humans have always produced rubbish and we always will, and I don’t think we gain by making individuals feel guilty about producing rubbish,” Dr Farley said. “But it’s important for us to think about how as a species we're going to \n",
      "\n",
      "And the Minoan cup s simplicity says alot to people such as Dr Far \n",
      "\n",
      "electricity. More than 90 per cent of the display materials for its new exhibit are recycled from another chowease it added. \n",
      "\n",
      "The trash exhibit’s lifespan will be short, just like those of the objectsit highlights. Itis part of temporary, more experimental displays sponsored by the Asahi Shimbun, a Japanese newspaper.  \n",
      "\n",
      "One is a paper discard from the 1990s. Researchers believe the other, made from clay, may have held wine before it was thrown out  after an ancient party on the island AfCrote in Crooco \n",
      "\n",
      "Experts say they are united by a ong history of humans churning out items meant to be tossed after a single use — and apparently a few millennia-long aversion to doing he dichec \n",
      "\n",
      "Handic-fess, 70M ana covered in the fingerprints of whoever shaped it on a wheel, it seems to have been made ina hurry, she said. That sloppiness - and the existence of so many similar objects in big dumps near palaces ~ leads researchers to believe it was meant forjust one night of drinking. \n",
      "\n",
      "3,000-year-old Minoan disposable cup Is shown next to a modern-day paper one. PHOTO: BRITISH MUSEUM \n",
      "\n",
      "The sinall, Down telat ob Is visually less compelling than what the museum usually displays, Dr Farley said. But as an archaeologist, she knows that the most illuminating objects from the past are often not the most striking. Discards can tell us more about people’s everyday lives, she said, than magnifi cent marble sculptures and gold worl \n",
      "\n",
      "~In one way, It shows this universal desire for convenience,” Dr Farey said. “But today, we're making more than 300 billion disposable paper cups every year as a species. ts so completely different in terms Fthe scale ” \n",
      "\n",
      "Drlarley said the cups were probably the Minoans’ way of streamlining cleanup for feasts that drew hundreds or thousands of guests. They also would have been a statement of wealth, given the resources required to mass-produce and then toss. That may be why it is rare, the curatoradded, to find similar troves of disposable dishes. \n",
      "\n",
      "The British Museum said 1t 1s thinking about its own sustainabilityas well, as it falls under scrutiny Earlier this year, The Guardian reported, people packed the museum to protest its relationship with one ofits sponsors, the oil and gas com. panyBP.  Any  \n",
      "\n",
      "The British Museum's exhibit will spotlight other human castoffs. An artist's fishing basket \n",
      "\n",
      "\n",
      "\n",
      "She said the Minoan cup greeting visitors to the new exhibit was \n",
      "\n",
      "British Museum displays 3,500-year-old disposable cur \n",
      "\n",
      "“Small space, but big ideas,” Dr Farley said. WASHINGTON POST \n",
      "\n",
      "The Minoan cup is not the oldest such dish on record, but it stil stands out.  \n",
      "\n",
      "The show will run through Feb 23 na single room. \n",
      "\n",
      "move forward In a more sustain rahi \n",
      "\n",
      "LONDON = About 3,500 years sepaate the two cups that sit next to ach other at the heart of anew mueum exhibit in London.  Me te a mamer dicrard Fenrm tha \n",
      "\n",
      "THE STRAITSTIMES = TUESDAY,DECEMBER 31,2019 \n",
      "\n"
     ]
    }
   ],
   "source": [
    "#OCR\n",
    "# temporary\n",
    "sorted_boxes = unsorted_boxes\n",
    "\n",
    "for i in range(len(sorted_boxes)):\n",
    "    left = sorted_boxes[i]['boundary'][0][0]\n",
    "    top = sorted_boxes[i]['boundary'][0][1]\n",
    "    right = sorted_boxes[i]['boundary'][1][0]\n",
    "    bottom = sorted_boxes[i]['boundary'][1][1]\n",
    "    crop_image = image[top:bottom,left:right]\n",
    "    print(pytesseract.image_to_string(crop_image).replace('\\r', '').replace('-\\n', '').replace('\\n', ' '))\n",
    "    print()\n",
    "#     for key in result:\n",
    "#         f = open('zc_test/'+'IMG_5841_result.txt', \"a\")\n",
    "#         f.write(result[key][1])\n",
    "#         f.a()\n",
    "#     im = Image.fromarray(image_framed)\n",
    "#     im.save('zc_test/IMG_5841_'+str(i)+'_result.png')"
   ]
  },
  {
   "cell_type": "code",
   "execution_count": 28,
   "id": "498bea29",
   "metadata": {
    "scrolled": true
   },
   "outputs": [
    {
     "data": {
      "text/plain": [
       "<matplotlib.image.AxesImage at 0x7f68b41a3280>"
      ]
     },
     "execution_count": 28,
     "metadata": {},
     "output_type": "execute_result"
    },
    {
     "data": {
      "image/png": "[encoded data removed]",
      "text/plain": [
       "<Figure size 432x288 with 1 Axes>"
      ]
     },
     "metadata": {
      "needs_background": "light"
     },
     "output_type": "display_data"
    }
   ],
   "source": [
    "#visualization\n",
    "import matplotlib.pyplot as plt\n",
    "i = -1\n",
    "left = sorted_boxes[i]['boundary'][0][0]\n",
    "top = sorted_boxes[i]['boundary'][0][1]\n",
    "right = sorted_boxes[i]['boundary'][1][0]\n",
    "bottom = sorted_boxes[i]['boundary'][1][1]\n",
    "plt.imshow(image[top:bottom,left:right])"
   ]
  },
  {
   "cell_type": "code",
   "execution_count": null,
   "id": "15881db8",
   "metadata": {},
   "outputs": [],
   "source": []
  }
 ],
 "metadata": {
  "kernelspec": {
   "display_name": "ureca",
   "language": "python",
   "name": "ureca"
  },
  "language_info": {
   "codemirror_mode": {
    "name": "ipython",
    "version": 3
   },
   "file_extension": ".py",
   "mimetype": "text/x-python",
   "name": "python",
   "nbconvert_exporter": "python",
   "pygments_lexer": "ipython3",
   "version": "3.8.12"
  }
 },
 "nbformat": 4,
 "nbformat_minor": 5
}
