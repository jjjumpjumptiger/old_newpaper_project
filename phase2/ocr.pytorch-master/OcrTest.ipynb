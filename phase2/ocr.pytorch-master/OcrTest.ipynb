{
 "cells": [
  {
   "cell_type": "code",
   "execution_count": 3,
   "id": "705eda4c",
   "metadata": {},
   "outputs": [],
   "source": [
    "import os\n",
    "from ocr import ocr\n",
    "import time\n",
    "import shutil\n",
    "import numpy as np\n",
    "from PIL import Image\n",
    "from glob import glob\n",
    "import cv2"
   ]
  },
  {
   "cell_type": "code",
   "execution_count": 4,
   "id": "300f99b9",
   "metadata": {},
   "outputs": [],
   "source": [
    "def single_pic_proc(image_file):\n",
    "    image = np.array(Image.open(image_file).convert('RGB'))\n",
    "    print(image)\n",
    "    result, image_framed = ocr(image)\n",
    "    return result,image_framed\n",
    "\n",
    "def dis(image):\n",
    "    cv2.imshow('image', image)\n",
    "    cv2.waitKey(0)\n",
    "    cv2.destroyAllWindows()"
   ]
  },
  {
   "cell_type": "code",
   "execution_count": 9,
   "id": "f797fa2d",
   "metadata": {},
   "outputs": [
    {
     "ename": "TypeError",
     "evalue": "string indices must be integers",
     "output_type": "error",
     "traceback": [
      "\u001b[0;31m---------------------------------------------------------------------------\u001b[0m",
      "\u001b[0;31mTypeError\u001b[0m                                 Traceback (most recent call last)",
      "\u001b[0;32m<ipython-input-9-4ee564a58cb8>\u001b[0m in \u001b[0;36m<module>\u001b[0;34m\u001b[0m\n\u001b[1;32m      5\u001b[0m \u001b[0;34m\u001b[0m\u001b[0m\n\u001b[1;32m      6\u001b[0m \u001b[0;32mfor\u001b[0m \u001b[0mi\u001b[0m \u001b[0;32min\u001b[0m \u001b[0mrange\u001b[0m\u001b[0;34m(\u001b[0m\u001b[0mlen\u001b[0m\u001b[0;34m(\u001b[0m\u001b[0mboxes\u001b[0m\u001b[0;34m)\u001b[0m\u001b[0;34m)\u001b[0m\u001b[0;34m:\u001b[0m\u001b[0;34m\u001b[0m\u001b[0;34m\u001b[0m\u001b[0m\n\u001b[0;32m----> 7\u001b[0;31m     \u001b[0mleft\u001b[0m \u001b[0;34m=\u001b[0m \u001b[0mround\u001b[0m\u001b[0;34m(\u001b[0m\u001b[0mboxes\u001b[0m\u001b[0;34m[\u001b[0m\u001b[0mi\u001b[0m\u001b[0;34m]\u001b[0m\u001b[0;34m[\u001b[0m\u001b[0;34m'boundary'\u001b[0m\u001b[0;34m]\u001b[0m\u001b[0;34m[\u001b[0m\u001b[0;36m0\u001b[0m\u001b[0;34m]\u001b[0m\u001b[0;34m)\u001b[0m\u001b[0;34m\u001b[0m\u001b[0;34m\u001b[0m\u001b[0m\n\u001b[0m\u001b[1;32m      8\u001b[0m     \u001b[0mtop\u001b[0m \u001b[0;34m=\u001b[0m \u001b[0mround\u001b[0m\u001b[0;34m(\u001b[0m\u001b[0mboxes\u001b[0m\u001b[0;34m[\u001b[0m\u001b[0mi\u001b[0m\u001b[0;34m]\u001b[0m\u001b[0;34m[\u001b[0m\u001b[0;34m'boundary'\u001b[0m\u001b[0;34m]\u001b[0m\u001b[0;34m[\u001b[0m\u001b[0;36m1\u001b[0m\u001b[0;34m]\u001b[0m\u001b[0;34m)\u001b[0m\u001b[0;34m\u001b[0m\u001b[0;34m\u001b[0m\u001b[0m\n\u001b[1;32m      9\u001b[0m     \u001b[0mright\u001b[0m \u001b[0;34m=\u001b[0m \u001b[0mround\u001b[0m\u001b[0;34m(\u001b[0m\u001b[0mboxes\u001b[0m\u001b[0;34m[\u001b[0m\u001b[0mi\u001b[0m\u001b[0;34m]\u001b[0m\u001b[0;34m[\u001b[0m\u001b[0;34m'boundary'\u001b[0m\u001b[0;34m]\u001b[0m\u001b[0;34m[\u001b[0m\u001b[0;36m2\u001b[0m\u001b[0;34m]\u001b[0m\u001b[0;34m)\u001b[0m\u001b[0;34m\u001b[0m\u001b[0;34m\u001b[0m\u001b[0m\n",
      "\u001b[0;31mTypeError\u001b[0m: string indices must be integers"
     ]
    }
   ],
   "source": [
    "box_filename = './IMG_5841_boxes.txt'\n",
    "t = time.time()\n",
    "image = cv2.imread('../../21S1_URECA_FYP/ST2020-01/IMG_5841.PNG')\n",
    "\n",
    "\n",
    "for i in range(len(boxes)):\n",
    "    left = round(boxes[i]['boundary'][0])\n",
    "    top = round(boxes[i]['boundary'][1])\n",
    "    right = round(boxes[i]['boundary'][2])\n",
    "    bottom = round(boxes[i]['boundary'][3])\n",
    "    crop_image = image[top:bottom,left:right]\n",
    "    result, image_framed = ocr(crop_image)\n",
    "    print(result)\n",
    "    print(\"Mission complete, it took {:.3f}s\".format(time.time() - t))\n",
    "    print(\"\\nRecognition Result:\\n\")\n",
    "    for key in result:\n",
    "        f = open('zc_test/'+'IMG_5841_result.txt', \"a\")\n",
    "        f.write(result[key][1])\n",
    "        f.close()\n",
    "        print(result[key][1])\n",
    "        plt.imshow(image_framed)"
   ]
  },
  {
   "cell_type": "code",
   "execution_count": null,
   "id": "a88ef461",
   "metadata": {},
   "outputs": [],
   "source": [
    "# if __name__ == '__main__':\n",
    "#     import sys\n",
    "#     if len(sys.argv)>=2:\n",
    "#         filename = sys.argv[1]\n",
    "#         if filename.endswith('jpg') or filename.endswith('png'):\n",
    "#             result, image_framed = single_pic_proc(filename)\n",
    "#             print(result)\n",
    "#             dis(image_framed)"
   ]
  },
  {
   "cell_type": "code",
   "execution_count": 7,
   "id": "f8cd6f79",
   "metadata": {},
   "outputs": [
    {
     "data": {
      "text/plain": [
       "{0: [array([2.10000000e+01, 2.97250203e+01, 1.32102704e+03, 3.06612362e+01,\n",
       "         2.09729603e+01, 6.66946966e+01, 1.32100000e+03, 6.76309124e+01,\n",
       "         9.32265580e-01]),\n",
       "  '\"wehavetheneedtoanswerheuuestion,\"Whoareyou?”online ina'],\n",
       " 1: [array([2.09948866e+01, 8.24370716e+01, 1.32100000e+03, 8.22628651e+01,\n",
       "         2.10000000e+01, 1.20008501e+02, 1.32100511e+03, 1.19834295e+02,\n",
       "         9.78011966e-01]),\n",
       "  'wavthatisasfrictionless.seamiessand simple as possible.Theentire'],\n",
       " 2: [array([2.10000000e+01, 1.34008196e+02, 1.32100704e+03, 1.34255237e+02,\n",
       "         2.09929555e+01, 1.70508194e+02, 1.32100000e+03, 1.70755236e+02,\n",
       "         9.55343902e-01]),\n",
       "  'worldhasthisneedasweconnectdiaitalv moreand more,andtwill'],\n",
       " 3: [array([2.10000000e+01, 1.86326605e+02, 1.27300049e+03, 1.86343068e+02,\n",
       "         2.09995143e+01, 2.22672758e+02, 1.27300000e+03, 2.22689221e+02,\n",
       "         9.47888076e-01]),\n",
       "  'existforherestofourlves.zOLOzisheretomaketsimpletobe'],\n",
       " 4: [array([2.10000000e+01, 2.39244802e+02, 1.28900616e+03, 2.39448873e+02,\n",
       "         2.09938388e+01, 2.76923905e+02, 1.28900000e+03, 2.77127975e+02,\n",
       "         9.79655683e-01]),\n",
       "  'known,trustedand safe inthedigial woridforgenerationstocome.'],\n",
       " 5: [array([ 37.        , 324.83761828, 329.1887411 , 326.19272464,\n",
       "          36.8112589 , 362.74844467, 329.        , 364.10355103,\n",
       "           0.91313237]),\n",
       "  'Toby Rush,CEo'],\n",
       " 6: [array([7.09000000e+02, 6.29207735e+02, 1.00116802e+03, 6.30646123e+02,\n",
       "         7.08831975e+02, 6.61000964e+02, 1.00100000e+03, 6.62439352e+02,\n",
       "         9.17866468e-01]),\n",
       "  'GETTOKNoWUs']}"
      ]
     },
     "execution_count": 7,
     "metadata": {},
     "output_type": "execute_result"
    }
   ],
   "source": [
    "result"
   ]
  },
  {
   "cell_type": "code",
   "execution_count": null,
   "id": "72dbbaa2",
   "metadata": {},
   "outputs": [],
   "source": []
  }
 ],
 "metadata": {
  "kernelspec": {
   "display_name": "Python 3",
   "language": "python",
   "name": "python3"
  },
  "language_info": {
   "codemirror_mode": {
    "name": "ipython",
    "version": 3
   },
   "file_extension": ".py",
   "mimetype": "text/x-python",
   "name": "python",
   "nbconvert_exporter": "python",
   "pygments_lexer": "ipython3",
   "version": "3.8.8"
  }
 },
 "nbformat": 4,
 "nbformat_minor": 5
}
