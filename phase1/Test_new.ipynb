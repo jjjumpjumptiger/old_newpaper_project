{
 "cells": [
  {
   "cell_type": "markdown",
   "id": "357b63c6",
   "metadata": {},
   "source": [
    "### Import and Set up"
   ]
  },
  {
   "cell_type": "code",
   "execution_count": 1,
   "id": "2699584c",
   "metadata": {
    "scrolled": true
   },
   "outputs": [],
   "source": [
    "import numpy as np\n",
    "import torch\n",
    "import torchvision\n",
    "import detectron2\n",
    "import cv2\n",
    "import os\n",
    "import json\n",
    "import random"
   ]
  },
  {
   "cell_type": "code",
   "execution_count": 2,
   "id": "c7a8e38d",
   "metadata": {},
   "outputs": [
    {
     "name": "stdout",
     "output_type": "stream",
     "text": [
      "1.10.1 True\n"
     ]
    }
   ],
   "source": [
    "print(torch.__version__, torch.cuda.is_available())"
   ]
  },
  {
   "cell_type": "code",
   "execution_count": 3,
   "id": "a6d5381e",
   "metadata": {},
   "outputs": [
    {
     "data": {
      "text/plain": [
       "<Logger detectron2 (DEBUG)>"
      ]
     },
     "execution_count": 3,
     "metadata": {},
     "output_type": "execute_result"
    }
   ],
   "source": [
    "# Setup detectron2 logger\n",
    "from detectron2.utils.logger import setup_logger\n",
    "setup_logger()"
   ]
  },
  {
   "cell_type": "code",
   "execution_count": 4,
   "id": "f8ad9d89",
   "metadata": {},
   "outputs": [],
   "source": [
    "# import some common detectron2 utilities\n",
    "from detectron2.data.datasets import register_coco_instances\n",
    "from detectron2 import model_zoo\n",
    "from detectron2.engine import DefaultPredictor\n",
    "from detectron2.config import get_cfg\n",
    "from detectron2.utils.visualizer import Visualizer\n",
    "from detectron2.data import MetadataCatalog, DatasetCatalog"
   ]
  },
  {
   "cell_type": "code",
   "execution_count": 5,
   "id": "6f359fb4",
   "metadata": {},
   "outputs": [],
   "source": [
    "#choose which category to train on\n",
    "category = \"text\""
   ]
  },
  {
   "cell_type": "markdown",
   "id": "dc1d9f3c",
   "metadata": {},
   "source": [
    "### Prepare Dataset (only certain category)\n",
    "Convert VOC xml files into a COCO json format file via VOC2COCO package"
   ]
  },
  {
   "cell_type": "code",
   "execution_count": 6,
   "id": "6a118a82",
   "metadata": {},
   "outputs": [],
   "source": [
    "register_coco_instances(\"newspapers\",{},\"/home/students/s121md105_05/newspaper/zhangchi/old_newpaper_project_2122/VOC2COCO/output_new_\"+category+\".json\",\"../21S1_URECA_FYP/ST2020-01\")\n",
    "register_coco_instances(\"newspapers_test\",{},\"/home/students/s121md105_05/newspaper/zhangchi/old_newpaper_project_2122/VOC2COCO/output_new_\"+category+\"_test.json\",\"../21S1_URECA_FYP/ST2020-01\")"
   ]
  },
  {
   "cell_type": "code",
   "execution_count": 7,
   "id": "1e8bbb7a",
   "metadata": {},
   "outputs": [],
   "source": [
    "newspapers_metadata = MetadataCatalog.get(\"newspapers\")"
   ]
  },
  {
   "cell_type": "code",
   "execution_count": 8,
   "id": "18b36939",
   "metadata": {},
   "outputs": [
    {
     "name": "stdout",
     "output_type": "stream",
     "text": [
      "\u001b[32m[02/23 15:17:35 d2.data.datasets.coco]: \u001b[0mLoaded 79 images in COCO format from /home/students/s121md105_05/newspaper/zhangchi/old_newpaper_project_2122/VOC2COCO/output_new_text.json\n"
     ]
    }
   ],
   "source": [
    "newspapers_dataset_dicts = DatasetCatalog.get(\"newspapers\")"
   ]
  },
  {
   "cell_type": "code",
   "execution_count": 9,
   "id": "804dc690",
   "metadata": {},
   "outputs": [
    {
     "data": {
      "text/plain": [
       "79"
      ]
     },
     "execution_count": 9,
     "metadata": {},
     "output_type": "execute_result"
    }
   ],
   "source": [
    "len(newspapers_dataset_dicts)"
   ]
  },
  {
   "cell_type": "code",
   "execution_count": 10,
   "id": "92de63ab",
   "metadata": {},
   "outputs": [],
   "source": [
    "#visualize current pictures\n",
    "import matplotlib.pyplot as plt"
   ]
  },
  {
   "cell_type": "markdown",
   "id": "20c9f010",
   "metadata": {},
   "source": [
    "### Setting up the model\n",
    "We use a Faster RCNN model with a Resnet 50 backbone"
   ]
  },
  {
   "cell_type": "code",
   "execution_count": 13,
   "id": "e21b9c45",
   "metadata": {},
   "outputs": [
    {
     "ename": "RuntimeError",
     "evalue": "CUDA error: out of memory\nCUDA kernel errors might be asynchronously reported at some other API call,so the stacktrace below might be incorrect.\nFor debugging consider passing CUDA_LAUNCH_BLOCKING=1.",
     "output_type": "error",
     "traceback": [
      "\u001b[0;31m---------------------------------------------------------------------------\u001b[0m",
      "\u001b[0;31mRuntimeError\u001b[0m                              Traceback (most recent call last)",
      "\u001b[0;32m/tmp/ipykernel_26327/3777778126.py\u001b[0m in \u001b[0;36m<module>\u001b[0;34m\u001b[0m\n\u001b[1;32m     16\u001b[0m \u001b[0;34m\u001b[0m\u001b[0m\n\u001b[1;32m     17\u001b[0m \u001b[0mos\u001b[0m\u001b[0;34m.\u001b[0m\u001b[0mmakedirs\u001b[0m\u001b[0;34m(\u001b[0m\u001b[0mcfg\u001b[0m\u001b[0;34m.\u001b[0m\u001b[0mOUTPUT_DIR\u001b[0m\u001b[0;34m,\u001b[0m \u001b[0mexist_ok\u001b[0m\u001b[0;34m=\u001b[0m\u001b[0;32mTrue\u001b[0m\u001b[0;34m)\u001b[0m\u001b[0;34m\u001b[0m\u001b[0;34m\u001b[0m\u001b[0m\n\u001b[0;32m---> 18\u001b[0;31m \u001b[0mtrainer\u001b[0m \u001b[0;34m=\u001b[0m \u001b[0mDefaultTrainer\u001b[0m\u001b[0;34m(\u001b[0m\u001b[0mcfg\u001b[0m\u001b[0;34m)\u001b[0m\u001b[0;34m\u001b[0m\u001b[0;34m\u001b[0m\u001b[0m\n\u001b[0m\u001b[1;32m     19\u001b[0m \u001b[0mtrainer\u001b[0m\u001b[0;34m.\u001b[0m\u001b[0mresume_or_load\u001b[0m\u001b[0;34m(\u001b[0m\u001b[0mresume\u001b[0m\u001b[0;34m=\u001b[0m\u001b[0;32mFalse\u001b[0m\u001b[0;34m)\u001b[0m\u001b[0;34m\u001b[0m\u001b[0;34m\u001b[0m\u001b[0m\n",
      "\u001b[0;32m~/anaconda3/envs/ureca/lib/python3.8/site-packages/detectron2/engine/defaults.py\u001b[0m in \u001b[0;36m__init__\u001b[0;34m(self, cfg)\u001b[0m\n\u001b[1;32m    374\u001b[0m \u001b[0;34m\u001b[0m\u001b[0m\n\u001b[1;32m    375\u001b[0m         \u001b[0;31m# Assume these objects must be constructed in this order.\u001b[0m\u001b[0;34m\u001b[0m\u001b[0;34m\u001b[0m\u001b[0;34m\u001b[0m\u001b[0m\n\u001b[0;32m--> 376\u001b[0;31m         \u001b[0mmodel\u001b[0m \u001b[0;34m=\u001b[0m \u001b[0mself\u001b[0m\u001b[0;34m.\u001b[0m\u001b[0mbuild_model\u001b[0m\u001b[0;34m(\u001b[0m\u001b[0mcfg\u001b[0m\u001b[0;34m)\u001b[0m\u001b[0;34m\u001b[0m\u001b[0;34m\u001b[0m\u001b[0m\n\u001b[0m\u001b[1;32m    377\u001b[0m         \u001b[0moptimizer\u001b[0m \u001b[0;34m=\u001b[0m \u001b[0mself\u001b[0m\u001b[0;34m.\u001b[0m\u001b[0mbuild_optimizer\u001b[0m\u001b[0;34m(\u001b[0m\u001b[0mcfg\u001b[0m\u001b[0;34m,\u001b[0m \u001b[0mmodel\u001b[0m\u001b[0;34m)\u001b[0m\u001b[0;34m\u001b[0m\u001b[0;34m\u001b[0m\u001b[0m\n\u001b[1;32m    378\u001b[0m         \u001b[0mdata_loader\u001b[0m \u001b[0;34m=\u001b[0m \u001b[0mself\u001b[0m\u001b[0;34m.\u001b[0m\u001b[0mbuild_train_loader\u001b[0m\u001b[0;34m(\u001b[0m\u001b[0mcfg\u001b[0m\u001b[0;34m)\u001b[0m\u001b[0;34m\u001b[0m\u001b[0;34m\u001b[0m\u001b[0m\n",
      "\u001b[0;32m~/anaconda3/envs/ureca/lib/python3.8/site-packages/detectron2/engine/defaults.py\u001b[0m in \u001b[0;36mbuild_model\u001b[0;34m(cls, cfg)\u001b[0m\n\u001b[1;32m    503\u001b[0m         \u001b[0mOverwrite\u001b[0m \u001b[0mit\u001b[0m \u001b[0;32mif\u001b[0m \u001b[0myou\u001b[0m\u001b[0;31m'\u001b[0m\u001b[0md\u001b[0m \u001b[0mlike\u001b[0m \u001b[0ma\u001b[0m \u001b[0mdifferent\u001b[0m \u001b[0mmodel\u001b[0m\u001b[0;34m.\u001b[0m\u001b[0;34m\u001b[0m\u001b[0;34m\u001b[0m\u001b[0m\n\u001b[1;32m    504\u001b[0m         \"\"\"\n\u001b[0;32m--> 505\u001b[0;31m         \u001b[0mmodel\u001b[0m \u001b[0;34m=\u001b[0m \u001b[0mbuild_model\u001b[0m\u001b[0;34m(\u001b[0m\u001b[0mcfg\u001b[0m\u001b[0;34m)\u001b[0m\u001b[0;34m\u001b[0m\u001b[0;34m\u001b[0m\u001b[0m\n\u001b[0m\u001b[1;32m    506\u001b[0m         \u001b[0mlogger\u001b[0m \u001b[0;34m=\u001b[0m \u001b[0mlogging\u001b[0m\u001b[0;34m.\u001b[0m\u001b[0mgetLogger\u001b[0m\u001b[0;34m(\u001b[0m\u001b[0m__name__\u001b[0m\u001b[0;34m)\u001b[0m\u001b[0;34m\u001b[0m\u001b[0;34m\u001b[0m\u001b[0m\n\u001b[1;32m    507\u001b[0m         \u001b[0mlogger\u001b[0m\u001b[0;34m.\u001b[0m\u001b[0minfo\u001b[0m\u001b[0;34m(\u001b[0m\u001b[0;34m\"Model:\\n{}\"\u001b[0m\u001b[0;34m.\u001b[0m\u001b[0mformat\u001b[0m\u001b[0;34m(\u001b[0m\u001b[0mmodel\u001b[0m\u001b[0;34m)\u001b[0m\u001b[0;34m)\u001b[0m\u001b[0;34m\u001b[0m\u001b[0;34m\u001b[0m\u001b[0m\n",
      "\u001b[0;32m~/anaconda3/envs/ureca/lib/python3.8/site-packages/detectron2/modeling/meta_arch/build.py\u001b[0m in \u001b[0;36mbuild_model\u001b[0;34m(cfg)\u001b[0m\n\u001b[1;32m     21\u001b[0m     \u001b[0mmeta_arch\u001b[0m \u001b[0;34m=\u001b[0m \u001b[0mcfg\u001b[0m\u001b[0;34m.\u001b[0m\u001b[0mMODEL\u001b[0m\u001b[0;34m.\u001b[0m\u001b[0mMETA_ARCHITECTURE\u001b[0m\u001b[0;34m\u001b[0m\u001b[0;34m\u001b[0m\u001b[0m\n\u001b[1;32m     22\u001b[0m     \u001b[0mmodel\u001b[0m \u001b[0;34m=\u001b[0m \u001b[0mMETA_ARCH_REGISTRY\u001b[0m\u001b[0;34m.\u001b[0m\u001b[0mget\u001b[0m\u001b[0;34m(\u001b[0m\u001b[0mmeta_arch\u001b[0m\u001b[0;34m)\u001b[0m\u001b[0;34m(\u001b[0m\u001b[0mcfg\u001b[0m\u001b[0;34m)\u001b[0m\u001b[0;34m\u001b[0m\u001b[0;34m\u001b[0m\u001b[0m\n\u001b[0;32m---> 23\u001b[0;31m     \u001b[0mmodel\u001b[0m\u001b[0;34m.\u001b[0m\u001b[0mto\u001b[0m\u001b[0;34m(\u001b[0m\u001b[0mtorch\u001b[0m\u001b[0;34m.\u001b[0m\u001b[0mdevice\u001b[0m\u001b[0;34m(\u001b[0m\u001b[0mcfg\u001b[0m\u001b[0;34m.\u001b[0m\u001b[0mMODEL\u001b[0m\u001b[0;34m.\u001b[0m\u001b[0mDEVICE\u001b[0m\u001b[0;34m)\u001b[0m\u001b[0;34m)\u001b[0m\u001b[0;34m\u001b[0m\u001b[0;34m\u001b[0m\u001b[0m\n\u001b[0m\u001b[1;32m     24\u001b[0m     \u001b[0m_log_api_usage\u001b[0m\u001b[0;34m(\u001b[0m\u001b[0;34m\"modeling.meta_arch.\"\u001b[0m \u001b[0;34m+\u001b[0m \u001b[0mmeta_arch\u001b[0m\u001b[0;34m)\u001b[0m\u001b[0;34m\u001b[0m\u001b[0;34m\u001b[0m\u001b[0m\n\u001b[1;32m     25\u001b[0m     \u001b[0;32mreturn\u001b[0m \u001b[0mmodel\u001b[0m\u001b[0;34m\u001b[0m\u001b[0;34m\u001b[0m\u001b[0m\n",
      "\u001b[0;32m~/anaconda3/envs/ureca/lib/python3.8/site-packages/torch/nn/modules/module.py\u001b[0m in \u001b[0;36mto\u001b[0;34m(self, *args, **kwargs)\u001b[0m\n\u001b[1;32m    897\u001b[0m             \u001b[0;32mreturn\u001b[0m \u001b[0mt\u001b[0m\u001b[0;34m.\u001b[0m\u001b[0mto\u001b[0m\u001b[0;34m(\u001b[0m\u001b[0mdevice\u001b[0m\u001b[0;34m,\u001b[0m \u001b[0mdtype\u001b[0m \u001b[0;32mif\u001b[0m \u001b[0mt\u001b[0m\u001b[0;34m.\u001b[0m\u001b[0mis_floating_point\u001b[0m\u001b[0;34m(\u001b[0m\u001b[0;34m)\u001b[0m \u001b[0;32mor\u001b[0m \u001b[0mt\u001b[0m\u001b[0;34m.\u001b[0m\u001b[0mis_complex\u001b[0m\u001b[0;34m(\u001b[0m\u001b[0;34m)\u001b[0m \u001b[0;32melse\u001b[0m \u001b[0;32mNone\u001b[0m\u001b[0;34m,\u001b[0m \u001b[0mnon_blocking\u001b[0m\u001b[0;34m)\u001b[0m\u001b[0;34m\u001b[0m\u001b[0;34m\u001b[0m\u001b[0m\n\u001b[1;32m    898\u001b[0m \u001b[0;34m\u001b[0m\u001b[0m\n\u001b[0;32m--> 899\u001b[0;31m         \u001b[0;32mreturn\u001b[0m \u001b[0mself\u001b[0m\u001b[0;34m.\u001b[0m\u001b[0m_apply\u001b[0m\u001b[0;34m(\u001b[0m\u001b[0mconvert\u001b[0m\u001b[0;34m)\u001b[0m\u001b[0;34m\u001b[0m\u001b[0;34m\u001b[0m\u001b[0m\n\u001b[0m\u001b[1;32m    900\u001b[0m \u001b[0;34m\u001b[0m\u001b[0m\n\u001b[1;32m    901\u001b[0m     def register_backward_hook(\n",
      "\u001b[0;32m~/anaconda3/envs/ureca/lib/python3.8/site-packages/torch/nn/modules/module.py\u001b[0m in \u001b[0;36m_apply\u001b[0;34m(self, fn)\u001b[0m\n\u001b[1;32m    568\u001b[0m     \u001b[0;32mdef\u001b[0m \u001b[0m_apply\u001b[0m\u001b[0;34m(\u001b[0m\u001b[0mself\u001b[0m\u001b[0;34m,\u001b[0m \u001b[0mfn\u001b[0m\u001b[0;34m)\u001b[0m\u001b[0;34m:\u001b[0m\u001b[0;34m\u001b[0m\u001b[0;34m\u001b[0m\u001b[0m\n\u001b[1;32m    569\u001b[0m         \u001b[0;32mfor\u001b[0m \u001b[0mmodule\u001b[0m \u001b[0;32min\u001b[0m \u001b[0mself\u001b[0m\u001b[0;34m.\u001b[0m\u001b[0mchildren\u001b[0m\u001b[0;34m(\u001b[0m\u001b[0;34m)\u001b[0m\u001b[0;34m:\u001b[0m\u001b[0;34m\u001b[0m\u001b[0;34m\u001b[0m\u001b[0m\n\u001b[0;32m--> 570\u001b[0;31m             \u001b[0mmodule\u001b[0m\u001b[0;34m.\u001b[0m\u001b[0m_apply\u001b[0m\u001b[0;34m(\u001b[0m\u001b[0mfn\u001b[0m\u001b[0;34m)\u001b[0m\u001b[0;34m\u001b[0m\u001b[0;34m\u001b[0m\u001b[0m\n\u001b[0m\u001b[1;32m    571\u001b[0m \u001b[0;34m\u001b[0m\u001b[0m\n\u001b[1;32m    572\u001b[0m         \u001b[0;32mdef\u001b[0m \u001b[0mcompute_should_use_set_data\u001b[0m\u001b[0;34m(\u001b[0m\u001b[0mtensor\u001b[0m\u001b[0;34m,\u001b[0m \u001b[0mtensor_applied\u001b[0m\u001b[0;34m)\u001b[0m\u001b[0;34m:\u001b[0m\u001b[0;34m\u001b[0m\u001b[0;34m\u001b[0m\u001b[0m\n",
      "\u001b[0;32m~/anaconda3/envs/ureca/lib/python3.8/site-packages/torch/nn/modules/module.py\u001b[0m in \u001b[0;36m_apply\u001b[0;34m(self, fn)\u001b[0m\n\u001b[1;32m    568\u001b[0m     \u001b[0;32mdef\u001b[0m \u001b[0m_apply\u001b[0m\u001b[0;34m(\u001b[0m\u001b[0mself\u001b[0m\u001b[0;34m,\u001b[0m \u001b[0mfn\u001b[0m\u001b[0;34m)\u001b[0m\u001b[0;34m:\u001b[0m\u001b[0;34m\u001b[0m\u001b[0;34m\u001b[0m\u001b[0m\n\u001b[1;32m    569\u001b[0m         \u001b[0;32mfor\u001b[0m \u001b[0mmodule\u001b[0m \u001b[0;32min\u001b[0m \u001b[0mself\u001b[0m\u001b[0;34m.\u001b[0m\u001b[0mchildren\u001b[0m\u001b[0;34m(\u001b[0m\u001b[0;34m)\u001b[0m\u001b[0;34m:\u001b[0m\u001b[0;34m\u001b[0m\u001b[0;34m\u001b[0m\u001b[0m\n\u001b[0;32m--> 570\u001b[0;31m             \u001b[0mmodule\u001b[0m\u001b[0;34m.\u001b[0m\u001b[0m_apply\u001b[0m\u001b[0;34m(\u001b[0m\u001b[0mfn\u001b[0m\u001b[0;34m)\u001b[0m\u001b[0;34m\u001b[0m\u001b[0;34m\u001b[0m\u001b[0m\n\u001b[0m\u001b[1;32m    571\u001b[0m \u001b[0;34m\u001b[0m\u001b[0m\n\u001b[1;32m    572\u001b[0m         \u001b[0;32mdef\u001b[0m \u001b[0mcompute_should_use_set_data\u001b[0m\u001b[0;34m(\u001b[0m\u001b[0mtensor\u001b[0m\u001b[0;34m,\u001b[0m \u001b[0mtensor_applied\u001b[0m\u001b[0;34m)\u001b[0m\u001b[0;34m:\u001b[0m\u001b[0;34m\u001b[0m\u001b[0;34m\u001b[0m\u001b[0m\n",
      "\u001b[0;32m~/anaconda3/envs/ureca/lib/python3.8/site-packages/torch/nn/modules/module.py\u001b[0m in \u001b[0;36m_apply\u001b[0;34m(self, fn)\u001b[0m\n\u001b[1;32m    591\u001b[0m             \u001b[0;31m# `with torch.no_grad():`\u001b[0m\u001b[0;34m\u001b[0m\u001b[0;34m\u001b[0m\u001b[0;34m\u001b[0m\u001b[0m\n\u001b[1;32m    592\u001b[0m             \u001b[0;32mwith\u001b[0m \u001b[0mtorch\u001b[0m\u001b[0;34m.\u001b[0m\u001b[0mno_grad\u001b[0m\u001b[0;34m(\u001b[0m\u001b[0;34m)\u001b[0m\u001b[0;34m:\u001b[0m\u001b[0;34m\u001b[0m\u001b[0;34m\u001b[0m\u001b[0m\n\u001b[0;32m--> 593\u001b[0;31m                 \u001b[0mparam_applied\u001b[0m \u001b[0;34m=\u001b[0m \u001b[0mfn\u001b[0m\u001b[0;34m(\u001b[0m\u001b[0mparam\u001b[0m\u001b[0;34m)\u001b[0m\u001b[0;34m\u001b[0m\u001b[0;34m\u001b[0m\u001b[0m\n\u001b[0m\u001b[1;32m    594\u001b[0m             \u001b[0mshould_use_set_data\u001b[0m \u001b[0;34m=\u001b[0m \u001b[0mcompute_should_use_set_data\u001b[0m\u001b[0;34m(\u001b[0m\u001b[0mparam\u001b[0m\u001b[0;34m,\u001b[0m \u001b[0mparam_applied\u001b[0m\u001b[0;34m)\u001b[0m\u001b[0;34m\u001b[0m\u001b[0;34m\u001b[0m\u001b[0m\n\u001b[1;32m    595\u001b[0m             \u001b[0;32mif\u001b[0m \u001b[0mshould_use_set_data\u001b[0m\u001b[0;34m:\u001b[0m\u001b[0;34m\u001b[0m\u001b[0;34m\u001b[0m\u001b[0m\n",
      "\u001b[0;32m~/anaconda3/envs/ureca/lib/python3.8/site-packages/torch/nn/modules/module.py\u001b[0m in \u001b[0;36mconvert\u001b[0;34m(t)\u001b[0m\n\u001b[1;32m    895\u001b[0m                 return t.to(device, dtype if t.is_floating_point() or t.is_complex() else None,\n\u001b[1;32m    896\u001b[0m                             non_blocking, memory_format=convert_to_format)\n\u001b[0;32m--> 897\u001b[0;31m             \u001b[0;32mreturn\u001b[0m \u001b[0mt\u001b[0m\u001b[0;34m.\u001b[0m\u001b[0mto\u001b[0m\u001b[0;34m(\u001b[0m\u001b[0mdevice\u001b[0m\u001b[0;34m,\u001b[0m \u001b[0mdtype\u001b[0m \u001b[0;32mif\u001b[0m \u001b[0mt\u001b[0m\u001b[0;34m.\u001b[0m\u001b[0mis_floating_point\u001b[0m\u001b[0;34m(\u001b[0m\u001b[0;34m)\u001b[0m \u001b[0;32mor\u001b[0m \u001b[0mt\u001b[0m\u001b[0;34m.\u001b[0m\u001b[0mis_complex\u001b[0m\u001b[0;34m(\u001b[0m\u001b[0;34m)\u001b[0m \u001b[0;32melse\u001b[0m \u001b[0;32mNone\u001b[0m\u001b[0;34m,\u001b[0m \u001b[0mnon_blocking\u001b[0m\u001b[0;34m)\u001b[0m\u001b[0;34m\u001b[0m\u001b[0;34m\u001b[0m\u001b[0m\n\u001b[0m\u001b[1;32m    898\u001b[0m \u001b[0;34m\u001b[0m\u001b[0m\n\u001b[1;32m    899\u001b[0m         \u001b[0;32mreturn\u001b[0m \u001b[0mself\u001b[0m\u001b[0;34m.\u001b[0m\u001b[0m_apply\u001b[0m\u001b[0;34m(\u001b[0m\u001b[0mconvert\u001b[0m\u001b[0;34m)\u001b[0m\u001b[0;34m\u001b[0m\u001b[0;34m\u001b[0m\u001b[0m\n",
      "\u001b[0;31mRuntimeError\u001b[0m: CUDA error: out of memory\nCUDA kernel errors might be asynchronously reported at some other API call,so the stacktrace below might be incorrect.\nFor debugging consider passing CUDA_LAUNCH_BLOCKING=1."
     ]
    }
   ],
   "source": [
    "from detectron2.engine import DefaultTrainer\n",
    "\n",
    "cfg = get_cfg()\n",
    "config_name = \"COCO-Detection/faster_rcnn_R_50_FPN_1x.yaml\"\n",
    "cfg.merge_from_file(model_zoo.get_config_file(config_name))\n",
    "cfg.DATASETS.TRAIN = (\"newspapers\",)\n",
    "cfg.DATASETS.TEST = (\"newspapers_test\",)\n",
    "cfg.DATALOADER.NUM_WORKERS = 2\n",
    "cfg.MODEL.WEIGHTS = model_zoo.get_checkpoint_url(config_name) \n",
    "cfg.SOLVER.IMS_PER_BATCH = 2\n",
    "cfg.SOLVER.BASE_LR = 0.00025  \n",
    "cfg.SOLVER.MAX_ITER = 500    \n",
    "cfg.SOLVER.STEPS = []        \n",
    "cfg.MODEL.ROI_HEADS.BATCH_SIZE_PER_IMAGE = 128\n",
    "cfg.MODEL.ROI_HEADS.NUM_CLASSES = 5\n",
    "\n",
    "os.makedirs(cfg.OUTPUT_DIR, exist_ok=True)\n",
    "trainer = DefaultTrainer(cfg)\n",
    "trainer.resume_or_load(resume=False)"
   ]
  },
  {
   "cell_type": "code",
   "execution_count": 12,
   "id": "434ff8fb",
   "metadata": {},
   "outputs": [
    {
     "name": "stdout",
     "output_type": "stream",
     "text": [
      "\u001b[32m[02/09 12:38:13 d2.engine.train_loop]: \u001b[0mStarting training from iteration 0\n"
     ]
    },
    {
     "name": "stderr",
     "output_type": "stream",
     "text": [
      "/home/students/s121md105_05/anaconda3/envs/ureca/lib/python3.8/site-packages/detectron2/structures/image_list.py:88: UserWarning: __floordiv__ is deprecated, and its behavior will change in a future version of pytorch. It currently rounds toward 0 (like the 'trunc' function NOT 'floor'). This results in incorrect rounding for negative values. To keep the current behavior, use torch.div(a, b, rounding_mode='trunc'), or for actual floor division, use torch.div(a, b, rounding_mode='floor').\n",
      "  max_size = (max_size + (stride - 1)) // stride * stride\n",
      "/home/students/s121md105_05/anaconda3/envs/ureca/lib/python3.8/site-packages/torch/functional.py:445: UserWarning: torch.meshgrid: in an upcoming release, it will be required to pass the indexing argument. (Triggered internally at  /opt/conda/conda-bld/pytorch_1639180544224/work/aten/src/ATen/native/TensorShape.cpp:2157.)\n",
      "  return _VF.meshgrid(tensors, **kwargs)  # type: ignore[attr-defined]\n"
     ]
    },
    {
     "name": "stdout",
     "output_type": "stream",
     "text": [
      "\u001b[32m[02/09 12:38:18 d2.utils.events]: \u001b[0m eta: 0:01:48  iter: 19  total_loss: 2.872  loss_cls: 1.672  loss_box_reg: 0.1263  loss_rpn_cls: 0.8283  loss_rpn_loc: 0.1027  time: 0.2251  data_time: 0.0131  lr: 9.7405e-06  max_mem: 2306M\n",
      "\u001b[32m[02/09 12:38:22 d2.utils.events]: \u001b[0m eta: 0:01:42  iter: 39  total_loss: 2.623  loss_cls: 1.55  loss_box_reg: 0.3052  loss_rpn_cls: 0.5994  loss_rpn_loc: 0.1331  time: 0.2235  data_time: 0.0028  lr: 1.9731e-05  max_mem: 2306M\n",
      "\u001b[32m[02/09 12:38:27 d2.utils.events]: \u001b[0m eta: 0:01:37  iter: 59  total_loss: 2.151  loss_cls: 1.284  loss_box_reg: 0.5613  loss_rpn_cls: 0.1674  loss_rpn_loc: 0.1  time: 0.2238  data_time: 0.0053  lr: 2.972e-05  max_mem: 2306M\n",
      "\u001b[32m[02/09 12:38:31 d2.utils.events]: \u001b[0m eta: 0:01:33  iter: 79  total_loss: 1.982  loss_cls: 1.007  loss_box_reg: 0.7326  loss_rpn_cls: 0.09325  loss_rpn_loc: 0.1066  time: 0.2244  data_time: 0.0032  lr: 3.9711e-05  max_mem: 2306M\n",
      "\u001b[32m[02/09 12:38:36 d2.utils.events]: \u001b[0m eta: 0:01:29  iter: 99  total_loss: 1.796  loss_cls: 0.7909  loss_box_reg: 0.7904  loss_rpn_cls: 0.08137  loss_rpn_loc: 0.09587  time: 0.2243  data_time: 0.0061  lr: 4.9701e-05  max_mem: 2306M\n",
      "\u001b[32m[02/09 12:38:40 d2.utils.events]: \u001b[0m eta: 0:01:25  iter: 119  total_loss: 1.637  loss_cls: 0.6471  loss_box_reg: 0.812  loss_rpn_cls: 0.08281  loss_rpn_loc: 0.07706  time: 0.2246  data_time: 0.0032  lr: 5.9691e-05  max_mem: 2306M\n",
      "\u001b[32m[02/09 12:38:45 d2.utils.events]: \u001b[0m eta: 0:01:20  iter: 139  total_loss: 1.503  loss_cls: 0.4971  loss_box_reg: 0.8418  loss_rpn_cls: 0.05862  loss_rpn_loc: 0.07301  time: 0.2255  data_time: 0.0030  lr: 6.9681e-05  max_mem: 2306M\n",
      "\u001b[32m[02/09 12:38:49 d2.utils.events]: \u001b[0m eta: 0:01:16  iter: 159  total_loss: 1.409  loss_cls: 0.4426  loss_box_reg: 0.7797  loss_rpn_cls: 0.07428  loss_rpn_loc: 0.07673  time: 0.2260  data_time: 0.0033  lr: 7.9671e-05  max_mem: 2306M\n",
      "\u001b[32m[02/09 12:38:54 d2.utils.events]: \u001b[0m eta: 0:01:11  iter: 179  total_loss: 1.285  loss_cls: 0.3726  loss_box_reg: 0.758  loss_rpn_cls: 0.06823  loss_rpn_loc: 0.07699  time: 0.2257  data_time: 0.0033  lr: 8.966e-05  max_mem: 2306M\n",
      "\u001b[32m[02/09 12:38:59 d2.utils.events]: \u001b[0m eta: 0:01:07  iter: 199  total_loss: 1.147  loss_cls: 0.3186  loss_box_reg: 0.6632  loss_rpn_cls: 0.05371  loss_rpn_loc: 0.06263  time: 0.2266  data_time: 0.0051  lr: 9.9651e-05  max_mem: 2306M\n",
      "\u001b[32m[02/09 12:39:03 d2.utils.events]: \u001b[0m eta: 0:01:02  iter: 219  total_loss: 0.9893  loss_cls: 0.2611  loss_box_reg: 0.6555  loss_rpn_cls: 0.04896  loss_rpn_loc: 0.05688  time: 0.2268  data_time: 0.0039  lr: 0.00010964  max_mem: 2306M\n",
      "\u001b[32m[02/09 12:39:08 d2.utils.events]: \u001b[0m eta: 0:00:58  iter: 239  total_loss: 0.9957  loss_cls: 0.278  loss_box_reg: 0.5853  loss_rpn_cls: 0.05331  loss_rpn_loc: 0.0982  time: 0.2266  data_time: 0.0034  lr: 0.00011963  max_mem: 2306M\n",
      "\u001b[32m[02/09 12:39:12 d2.utils.events]: \u001b[0m eta: 0:00:53  iter: 259  total_loss: 0.8281  loss_cls: 0.2168  loss_box_reg: 0.4957  loss_rpn_cls: 0.04269  loss_rpn_loc: 0.05261  time: 0.2268  data_time: 0.0030  lr: 0.00012962  max_mem: 2306M\n",
      "\u001b[32m[02/09 12:39:17 d2.utils.events]: \u001b[0m eta: 0:00:49  iter: 279  total_loss: 0.6985  loss_cls: 0.1925  loss_box_reg: 0.4164  loss_rpn_cls: 0.03628  loss_rpn_loc: 0.06437  time: 0.2273  data_time: 0.0045  lr: 0.00013961  max_mem: 2306M\n",
      "\u001b[32m[02/09 12:39:22 d2.utils.events]: \u001b[0m eta: 0:00:44  iter: 299  total_loss: 0.6788  loss_cls: 0.1846  loss_box_reg: 0.3854  loss_rpn_cls: 0.0404  loss_rpn_loc: 0.07874  time: 0.2270  data_time: 0.0029  lr: 0.0001496  max_mem: 2306M\n",
      "\u001b[32m[02/09 12:39:26 d2.utils.events]: \u001b[0m eta: 0:00:40  iter: 319  total_loss: 0.6503  loss_cls: 0.1732  loss_box_reg: 0.3603  loss_rpn_cls: 0.03448  loss_rpn_loc: 0.04971  time: 0.2274  data_time: 0.0032  lr: 0.00015959  max_mem: 2306M\n",
      "\u001b[32m[02/09 12:39:31 d2.utils.events]: \u001b[0m eta: 0:00:36  iter: 339  total_loss: 0.5892  loss_cls: 0.1698  loss_box_reg: 0.3237  loss_rpn_cls: 0.02539  loss_rpn_loc: 0.05813  time: 0.2273  data_time: 0.0031  lr: 0.00016958  max_mem: 2306M\n",
      "\u001b[32m[02/09 12:39:35 d2.utils.events]: \u001b[0m eta: 0:00:31  iter: 359  total_loss: 0.6164  loss_cls: 0.1869  loss_box_reg: 0.3456  loss_rpn_cls: 0.02528  loss_rpn_loc: 0.05414  time: 0.2276  data_time: 0.0031  lr: 0.00017957  max_mem: 2306M\n",
      "\u001b[32m[02/09 12:39:40 d2.utils.events]: \u001b[0m eta: 0:00:27  iter: 379  total_loss: 0.5685  loss_cls: 0.1542  loss_box_reg: 0.2799  loss_rpn_cls: 0.02343  loss_rpn_loc: 0.06062  time: 0.2278  data_time: 0.0030  lr: 0.00018956  max_mem: 2306M\n",
      "\u001b[32m[02/09 12:39:44 d2.utils.events]: \u001b[0m eta: 0:00:22  iter: 399  total_loss: 0.5448  loss_cls: 0.1565  loss_box_reg: 0.2923  loss_rpn_cls: 0.02608  loss_rpn_loc: 0.05093  time: 0.2272  data_time: 0.0032  lr: 0.00019955  max_mem: 2306M\n",
      "\u001b[32m[02/09 12:39:49 d2.utils.events]: \u001b[0m eta: 0:00:18  iter: 419  total_loss: 0.6272  loss_cls: 0.1732  loss_box_reg: 0.3339  loss_rpn_cls: 0.02352  loss_rpn_loc: 0.07164  time: 0.2273  data_time: 0.0035  lr: 0.00020954  max_mem: 2306M\n",
      "\u001b[32m[02/09 12:39:54 d2.utils.events]: \u001b[0m eta: 0:00:13  iter: 439  total_loss: 0.5586  loss_cls: 0.1505  loss_box_reg: 0.2864  loss_rpn_cls: 0.02126  loss_rpn_loc: 0.0573  time: 0.2277  data_time: 0.0030  lr: 0.00021953  max_mem: 2306M\n",
      "\u001b[32m[02/09 12:39:59 d2.utils.events]: \u001b[0m eta: 0:00:09  iter: 459  total_loss: 0.5521  loss_cls: 0.1523  loss_box_reg: 0.2926  loss_rpn_cls: 0.0205  loss_rpn_loc: 0.04943  time: 0.2281  data_time: 0.0041  lr: 0.00022952  max_mem: 2306M\n",
      "\u001b[32m[02/09 12:40:03 d2.utils.events]: \u001b[0m eta: 0:00:04  iter: 479  total_loss: 0.5604  loss_cls: 0.1458  loss_box_reg: 0.2973  loss_rpn_cls: 0.01559  loss_rpn_loc: 0.05896  time: 0.2284  data_time: 0.0029  lr: 0.00023951  max_mem: 2306M\n",
      "\u001b[32m[02/09 12:40:09 d2.utils.events]: \u001b[0m eta: 0:00:00  iter: 499  total_loss: 0.4715  loss_cls: 0.1475  loss_box_reg: 0.2644  loss_rpn_cls: 0.01649  loss_rpn_loc: 0.04338  time: 0.2288  data_time: 0.0033  lr: 0.0002495  max_mem: 2306M\n",
      "\u001b[32m[02/09 12:40:09 d2.engine.hooks]: \u001b[0mOverall training speed: 498 iterations in 0:01:53 (0.2288 s / it)\n",
      "\u001b[32m[02/09 12:40:09 d2.engine.hooks]: \u001b[0mTotal training time: 0:01:55 (0:00:01 on hooks)\n",
      "\u001b[32m[02/09 12:40:09 d2.data.datasets.coco]: \u001b[0mLoaded 20 images in COCO format from /home/students/s121md105_05/newspaper/zhangchi/old_newpaper_project_2122/VOC2COCO/output_new_text_test.json\n",
      "\u001b[32m[02/09 12:40:09 d2.data.build]: \u001b[0mDistribution of instances among all 5 categories:\n",
      "\u001b[36m|   category   | #instances   |  category  | #instances   |  category  | #instances   |\n",
      "|:------------:|:-------------|:----------:|:-------------|:----------:|:-------------|\n",
      "|   Headline   | 0            |   Byline   | 0            |   Image    | 0            |\n",
      "| Illustration | 0            |    Text    | 114          |            |              |\n",
      "|    total     | 114          |            |              |            |              |\u001b[0m\n",
      "\u001b[32m[02/09 12:40:09 d2.data.dataset_mapper]: \u001b[0m[DatasetMapper] Augmentations used in inference: [ResizeShortestEdge(short_edge_length=(800, 800), max_size=1333, sample_style='choice')]\n",
      "\u001b[32m[02/09 12:40:09 d2.data.common]: \u001b[0mSerializing 20 elements to byte tensors and concatenating them all ...\n",
      "\u001b[32m[02/09 12:40:09 d2.data.common]: \u001b[0mSerialized dataset takes 0.01 MiB\n",
      "\u001b[5m\u001b[31mWARNING\u001b[0m \u001b[32m[02/09 12:40:09 d2.engine.defaults]: \u001b[0mNo evaluator found. Use `DefaultTrainer.test(evaluators=)`, or implement its `build_evaluator` method.\n"
     ]
    }
   ],
   "source": [
    "trainer.train()"
   ]
  },
  {
   "cell_type": "code",
   "execution_count": 13,
   "id": "29f666ab",
   "metadata": {},
   "outputs": [],
   "source": [
    "cfg.MODEL.WEIGHTS = os.path.join(cfg.OUTPUT_DIR, \"model_final.pth\") \n",
    "cfg.MODEL.ROI_HEADS.SCORE_THRESH_TEST = 0.5\n",
    "predictor = DefaultPredictor(cfg)"
   ]
  },
  {
   "cell_type": "code",
   "execution_count": 14,
   "id": "1e35536a",
   "metadata": {},
   "outputs": [
    {
     "name": "stdout",
     "output_type": "stream",
     "text": [
      "\u001b[32m[02/09 12:40:10 d2.data.datasets.coco]: \u001b[0mLoaded 20 images in COCO format from /home/students/s121md105_05/newspaper/zhangchi/old_newpaper_project_2122/VOC2COCO/output_new_text_test.json\n"
     ]
    }
   ],
   "source": [
    "from detectron2.utils.visualizer import ColorMode\n",
    "test_dicts = DatasetCatalog.get(\"newspapers_test\")"
   ]
  },
  {
   "cell_type": "code",
   "execution_count": 15,
   "id": "9ca477b7",
   "metadata": {},
   "outputs": [],
   "source": [
    "#print predictions\n",
    "# for d in test_dicts:\n",
    "#     im = cv2.imread(d[\"file_name\"])\n",
    "#     outputs = predictor(im)  \n",
    "#     print(outputs)"
   ]
  },
  {
   "cell_type": "code",
   "execution_count": 16,
   "id": "def488f7",
   "metadata": {},
   "outputs": [],
   "source": [
    "#print visulazed prediction and save predictions as pictures\n",
    "# count = 1\n",
    "# for d in test_dicts:\n",
    "#     im = cv2.imread(d[\"file_name\"])\n",
    "#     outputs = predictor(im) \n",
    "#     f = open('test_'+category+'/test_report.txt', \"a\")\n",
    "#     f.write(d[\"file_name\"]+'\\n'+str(outputs)+'\\n')\n",
    "#     f.close()\n",
    "#     v = Visualizer(im[:, :, ::-1],\n",
    "#                    metadata=newspapers_metadata, \n",
    "#                    scale=1, \n",
    "#     )\n",
    "#     out = v.draw_instance_predictions(outputs[\"instances\"].to(\"cpu\"))\n",
    "#     plt.imshow(out.get_image())\n",
    "#     out.save('test_'+category+'/test_'+category+str(count)+'.png')\n",
    "#     count += 1"
   ]
  },
  {
   "cell_type": "code",
   "execution_count": 56,
   "id": "bd748298",
   "metadata": {},
   "outputs": [
    {
     "ename": "ModuleNotFoundError",
     "evalue": "No module named 'ocr'",
     "output_type": "error",
     "traceback": [
      "\u001b[0;31m---------------------------------------------------------------------------\u001b[0m",
      "\u001b[0;31mModuleNotFoundError\u001b[0m                       Traceback (most recent call last)",
      "\u001b[0;32m/tmp/ipykernel_28393/2066987737.py\u001b[0m in \u001b[0;36m<module>\u001b[0;34m\u001b[0m\n\u001b[1;32m      2\u001b[0m \u001b[0;31m# insert at 1, 0 is the script path (or '' in REPL)\u001b[0m\u001b[0;34m\u001b[0m\u001b[0;34m\u001b[0m\u001b[0;34m\u001b[0m\u001b[0m\n\u001b[1;32m      3\u001b[0m \u001b[0msys\u001b[0m\u001b[0;34m.\u001b[0m\u001b[0mpath\u001b[0m\u001b[0;34m.\u001b[0m\u001b[0minsert\u001b[0m\u001b[0;34m(\u001b[0m\u001b[0;36m1\u001b[0m\u001b[0;34m,\u001b[0m \u001b[0;34m'/ocr.pytorch-master'\u001b[0m\u001b[0;34m)\u001b[0m\u001b[0;34m\u001b[0m\u001b[0;34m\u001b[0m\u001b[0m\n\u001b[0;32m----> 4\u001b[0;31m \u001b[0;32mfrom\u001b[0m \u001b[0mocr\u001b[0m \u001b[0;32mimport\u001b[0m \u001b[0mocr\u001b[0m\u001b[0;34m\u001b[0m\u001b[0;34m\u001b[0m\u001b[0m\n\u001b[0m\u001b[1;32m      5\u001b[0m \u001b[0;32mimport\u001b[0m \u001b[0mtime\u001b[0m\u001b[0;34m\u001b[0m\u001b[0;34m\u001b[0m\u001b[0m\n\u001b[1;32m      6\u001b[0m \u001b[0;32mimport\u001b[0m \u001b[0mshutil\u001b[0m\u001b[0;34m\u001b[0m\u001b[0;34m\u001b[0m\u001b[0m\n",
      "\u001b[0;31mModuleNotFoundError\u001b[0m: No module named 'ocr'"
     ]
    }
   ],
   "source": [
    "import time\n",
    "import shutil\n",
    "from glob import glob\n",
    "\n"
   ]
  },
  {
   "cell_type": "code",
   "execution_count": 59,
   "id": "3988b4a2",
   "metadata": {},
   "outputs": [],
   "source": [
    "# path_to_ocr_dir = '../phase2/ocr.pytorch-master/'\n",
    "# #prepare ocr input\n",
    "# for d in test_dicts:\n",
    "#     im = cv2.imread(d[\"file_name\"])\n",
    "#     output = predictor(im)\n",
    "#     prediction = output[\"instances\"].to(\"cpu\")\n",
    "#     boxes = prediction.pred_boxes if prediction.has(\"pred_boxes\") else None\n",
    "#     scores = prediction.scores if prediction.has(\"scores\") else None\n",
    "#     boxes_array = boxes.tensor.numpy()\n",
    "#     scores_array = scores.numpy()\n",
    "#     centers = boxes.get_centers().numpy()\n",
    "#     unsorted_boxes = []\n",
    "#     for i in range(len(boxes_array)):\n",
    "#         if scores_array[i]> 0.9:\n",
    "#             box = {}\n",
    "#             box['score'] = scores_array[i]\n",
    "#             box['boundary'] = boxes_array[i]\n",
    "#             box['center'] = centers[i]\n",
    "#             unsorted_boxes.append(box)\n",
    "#     sorted_boxes = sorted(unsorted_boxes, key=lambda d: (d['center'][0],d['center'][1]))\n",
    "#     with open(path_to_ocr_dir+d[\"image_id\"]+'_boxes.txt', 'w') as filehandle:\n",
    "#         for listitem in sorted_boxes:\n",
    "#             filehandle.write('%s\\n' % listitem)"
   ]
  },
  {
   "cell_type": "code",
   "execution_count": 19,
   "id": "62432e43",
   "metadata": {
    "scrolled": true
   },
   "outputs": [
    {
     "data": {
      "text/plain": [
       "array([1013.143 , 1258.3967, 1234.3386, 1836.6556], dtype=float32)"
      ]
     },
     "execution_count": 19,
     "metadata": {},
     "output_type": "execute_result"
    }
   ],
   "source": [
    "boxes[0].tensor[0].numpy()"
   ]
  },
  {
   "cell_type": "code",
   "execution_count": 20,
   "id": "e681fbfa",
   "metadata": {},
   "outputs": [
    {
     "data": {
      "text/plain": [
       "array([1123.7408, 1547.5261], dtype=float32)"
      ]
     },
     "execution_count": 20,
     "metadata": {},
     "output_type": "execute_result"
    }
   ],
   "source": [
    "boxes[0].get_centers().numpy()[0]"
   ]
  },
  {
   "cell_type": "code",
   "execution_count": 21,
   "id": "2c855a54",
   "metadata": {},
   "outputs": [
    {
     "name": "stdout",
     "output_type": "stream",
     "text": [
      "{'file_name': '../21S1_URECA_FYP/ST2020-01/IMG_5841.PNG', 'height': 2048, 'width': 1536, 'image_id': 'IMG_5841', 'annotations': [{'iscrowd': 0, 'bbox': [50, 1066, 220, 782], 'category_id': 4, 'bbox_mode': <BoxMode.XYWH_ABS: 1>}, {'iscrowd': 0, 'bbox': [290, 854, 225, 994], 'category_id': 4, 'bbox_mode': <BoxMode.XYWH_ABS: 1>}, {'iscrowd': 0, 'bbox': [531, 1257, 220, 596], 'category_id': 4, 'bbox_mode': <BoxMode.XYWH_ABS: 1>}, {'iscrowd': 0, 'bbox': [774, 1254, 217, 597], 'category_id': 4, 'bbox_mode': <BoxMode.XYWH_ABS: 1>}, {'iscrowd': 0, 'bbox': [1012, 1250, 217, 597], 'category_id': 4, 'bbox_mode': <BoxMode.XYWH_ABS: 1>}, {'iscrowd': 0, 'bbox': [1255, 297, 222, 1449], 'category_id': 4, 'bbox_mode': <BoxMode.XYWH_ABS: 1>}]}\n"
     ]
    }
   ],
   "source": [
    "print(d)"
   ]
  },
  {
   "cell_type": "code",
   "execution_count": 28,
   "id": "17b57cd7",
   "metadata": {},
   "outputs": [
    {
     "data": {
      "text/plain": [
       "<matplotlib.image.AxesImage at 0x7fb7746f77f0>"
      ]
     },
     "execution_count": 28,
     "metadata": {},
     "output_type": "execute_result"
    },
    {
     "data": {
      "image/png": "[encoded data removed]",
      "text/plain": [
       "<Figure size 432x288 with 1 Axes>"
      ]
     },
     "metadata": {
      "needs_background": "light"
     },
     "output_type": "display_data"
    }
   ],
   "source": [
    "img = cv2.imread(d['file_name'])\n",
    "plt.imshow(img)"
   ]
  },
  {
   "cell_type": "code",
   "execution_count": 49,
   "id": "6f01822d",
   "metadata": {},
   "outputs": [
    {
     "name": "stdout",
     "output_type": "stream",
     "text": [
      "1013\n",
      "1258\n",
      "1234\n",
      "1837\n"
     ]
    },
    {
     "data": {
      "text/plain": [
       "<matplotlib.image.AxesImage at 0x7fb7729d58b0>"
      ]
     },
     "execution_count": 49,
     "metadata": {},
     "output_type": "execute_result"
    },
    {
     "data": {
      "image/png": "[encoded data removed]",
      "text/plain": [
       "<Figure size 432x288 with 1 Axes>"
      ]
     },
     "metadata": {
      "needs_background": "light"
     },
     "output_type": "display_data"
    }
   ],
   "source": [
    "left = round(boxes[0].tensor[0].numpy()[0])\n",
    "top = round(boxes[0].tensor[0].numpy()[1])\n",
    "right = round(boxes[0].tensor[0].numpy()[2])\n",
    "bottom = round(boxes[0].tensor[0].numpy()[3])\n",
    "print(left)\n",
    "print(top)\n",
    "print(right)\n",
    "print(bottom)\n",
    "crop_img = img[top:bottom,left:right]\n",
    "plt.imshow(crop_img)"
   ]
  },
  {
   "cell_type": "code",
   "execution_count": 43,
   "id": "a0921eb7",
   "metadata": {},
   "outputs": [
    {
     "data": {
      "text/plain": [
       "array([0.9919029 , 0.9917663 , 0.9911197 , 0.99039906, 0.9844334 ,\n",
       "       0.9707645 , 0.96469736, 0.9527983 , 0.9517708 , 0.9433359 ,\n",
       "       0.9423925 , 0.9358466 , 0.9172517 , 0.87346894, 0.86286575,\n",
       "       0.8117903 , 0.73809016, 0.7261084 , 0.6076255 , 0.5688549 ,\n",
       "       0.56594855], dtype=float32)"
      ]
     },
     "execution_count": 43,
     "metadata": {},
     "output_type": "execute_result"
    }
   ],
   "source": [
    "scores.numpy()"
   ]
  },
  {
   "cell_type": "code",
   "execution_count": 42,
   "id": "30edffb0",
   "metadata": {},
   "outputs": [
    {
     "data": {
      "text/plain": [
       "array(0.9919029, dtype=float32)"
      ]
     },
     "execution_count": 42,
     "metadata": {},
     "output_type": "execute_result"
    }
   ],
   "source": [
    "scores[0].numpy()"
   ]
  },
  {
   "cell_type": "code",
   "execution_count": 46,
   "id": "c5928955",
   "metadata": {
    "scrolled": true
   },
   "outputs": [
    {
     "data": {
      "text/plain": [
       "array([[1123.7408 , 1547.5261 ],\n",
       "       [ 406.01367, 1362.8889 ],\n",
       "       [ 884.8187 , 1576.238  ],\n",
       "       [ 640.971  , 1558.5009 ],\n",
       "       [ 168.23502, 1425.5914 ],\n",
       "       [1365.8657 ,  696.475  ],\n",
       "       [ 243.75407,  815.2262 ],\n",
       "       [ 407.12555, 1120.3987 ],\n",
       "       [ 875.3329 , 1364.3895 ],\n",
       "       [ 403.41644, 1639.8472 ],\n",
       "       [1366.0146 , 1574.4656 ],\n",
       "       [1369.6306 ,  951.5145 ],\n",
       "       [ 643.04663, 1400.9995 ],\n",
       "       [1121.9633 , 1379.1069 ],\n",
       "       [1359.6411 , 1817.5682 ],\n",
       "       [ 638.9175 , 1696.0592 ],\n",
       "       [1358.5946 ,  479.37018],\n",
       "       [ 165.86725, 1190.3672 ],\n",
       "       [ 847.1572 ,  956.41736],\n",
       "       [1365.3955 , 1311.1135 ],\n",
       "       [1364.032  , 1152.0356 ]], dtype=float32)"
      ]
     },
     "execution_count": 46,
     "metadata": {},
     "output_type": "execute_result"
    }
   ],
   "source": [
    "boxes.get_centers().numpy()"
   ]
  },
  {
   "cell_type": "code",
   "execution_count": 47,
   "id": "1a55c76e",
   "metadata": {},
   "outputs": [
    {
     "data": {
      "text/plain": [
       "Boxes(tensor([[1013.1430, 1258.3967, 1234.3386, 1836.6556],\n",
       "        [ 289.3015,  882.5590,  522.7258, 1843.2189],\n",
       "        [ 771.3987, 1296.8536,  998.2387, 1855.6224],\n",
       "        [ 533.3854, 1268.7634,  748.5566, 1848.2383],\n",
       "        [  50.8461, 1009.7640,  285.6239, 1841.4188],\n",
       "        [1248.7957,  317.7155, 1482.9358, 1075.2345],\n",
       "        [  45.6067,  788.7404,  441.9015,  841.7120],\n",
       "        [ 288.9197,  880.2865,  525.3314, 1360.5107],\n",
       "        [ 764.5521, 1259.7061,  986.1137, 1469.0730],\n",
       "        [ 288.2177, 1432.8348,  518.6152, 1846.8595],\n",
       "        [1251.0997, 1390.3710, 1480.9294, 1758.5602],\n",
       "        [1251.4141,  111.5760, 1487.8472, 1791.4530],\n",
       "        [ 536.1508, 1260.1472,  749.9424, 1541.8519],\n",
       "        [1011.9997, 1262.4464, 1231.9269, 1495.7676],\n",
       "        [1246.2693, 1779.4629, 1473.0128, 1855.6736],\n",
       "        [ 527.1520, 1549.6486,  750.6829, 1842.4698],\n",
       "        [1248.8467,  311.3928, 1468.3425,  647.3476],\n",
       "        [  53.2514, 1062.3402,  278.4831, 1318.3942],\n",
       "        [ 644.1796,  708.9675, 1050.1349, 1203.8673],\n",
       "        [1249.1881, 1249.7665, 1481.6028, 1372.4607],\n",
       "        [1247.4927, 1057.3822, 1480.5713, 1246.6891]]))"
      ]
     },
     "execution_count": 47,
     "metadata": {},
     "output_type": "execute_result"
    }
   ],
   "source": [
    "boxes"
   ]
  },
  {
   "cell_type": "code",
   "execution_count": 53,
   "id": "99276a47",
   "metadata": {},
   "outputs": [
    {
     "data": {
      "text/plain": [
       "[{'score': 0.9844334,\n",
       "  'boundary': array([  50.84611, 1009.764  ,  285.62393, 1841.4188 ], dtype=float32),\n",
       "  'center': array([ 168.23502, 1425.5914 ], dtype=float32)},\n",
       " {'score': 0.96469736,\n",
       "  'boundary': array([ 45.606693, 788.7404  , 441.90146 , 841.71204 ], dtype=float32),\n",
       "  'center': array([243.75407, 815.2262 ], dtype=float32)},\n",
       " {'score': 0.9433359,\n",
       "  'boundary': array([ 288.21768, 1432.8348 ,  518.6152 , 1846.8595 ], dtype=float32),\n",
       "  'center': array([ 403.41644, 1639.8472 ], dtype=float32)},\n",
       " {'score': 0.9917663,\n",
       "  'boundary': array([ 289.30154,  882.559  ,  522.7258 , 1843.2189 ], dtype=float32),\n",
       "  'center': array([ 406.01367, 1362.8889 ], dtype=float32)},\n",
       " {'score': 0.9527983,\n",
       "  'boundary': array([ 288.91968,  880.2865 ,  525.3314 , 1360.5107 ], dtype=float32),\n",
       "  'center': array([ 407.12555, 1120.3987 ], dtype=float32)},\n",
       " {'score': 0.99039906,\n",
       "  'boundary': array([ 533.3854 , 1268.7634 ,  748.55664, 1848.2383 ], dtype=float32),\n",
       "  'center': array([ 640.971 , 1558.5009], dtype=float32)},\n",
       " {'score': 0.9172517,\n",
       "  'boundary': array([ 536.1508, 1260.1472,  749.9424, 1541.8519], dtype=float32),\n",
       "  'center': array([ 643.04663, 1400.9995 ], dtype=float32)},\n",
       " {'score': 0.9517708,\n",
       "  'boundary': array([ 764.55206, 1259.706  ,  986.1137 , 1469.073  ], dtype=float32),\n",
       "  'center': array([ 875.3329, 1364.3895], dtype=float32)},\n",
       " {'score': 0.9911197,\n",
       "  'boundary': array([ 771.39874, 1296.8536 ,  998.2387 , 1855.6224 ], dtype=float32),\n",
       "  'center': array([ 884.8187, 1576.238 ], dtype=float32)},\n",
       " {'score': 0.9919029,\n",
       "  'boundary': array([1013.143 , 1258.3967, 1234.3386, 1836.6556], dtype=float32),\n",
       "  'center': array([1123.7408, 1547.5261], dtype=float32)},\n",
       " {'score': 0.9707645,\n",
       "  'boundary': array([1248.7957 ,  317.71545, 1482.9358 , 1075.2345 ], dtype=float32),\n",
       "  'center': array([1365.8657,  696.475 ], dtype=float32)},\n",
       " {'score': 0.9423925,\n",
       "  'boundary': array([1251.0997, 1390.371 , 1480.9294, 1758.5602], dtype=float32),\n",
       "  'center': array([1366.0146, 1574.4656], dtype=float32)},\n",
       " {'score': 0.9358466,\n",
       "  'boundary': array([1251.4141  ,  111.576035, 1487.8472  , 1791.453   ], dtype=float32),\n",
       "  'center': array([1369.6306,  951.5145], dtype=float32)}]"
      ]
     },
     "execution_count": 53,
     "metadata": {},
     "output_type": "execute_result"
    }
   ],
   "source": [
    "d = test_dicts[0]\n",
    "im = cv2.imread(d[\"file_name\"])\n",
    "output = predictor(im)\n",
    "prediction = output[\"instances\"].to(\"cpu\")\n",
    "boxes = prediction.pred_boxes if prediction.has(\"pred_boxes\") else None\n",
    "scores = prediction.scores if prediction.has(\"scores\") else None\n",
    "boxes_array = boxes.tensor.numpy()\n",
    "scores_array = scores.numpy()\n",
    "centers = boxes.get_centers().numpy()\n",
    "unsorted_boxes = []\n",
    "for i in range(len(boxes_array)):\n",
    "    if scores_array[i]> 0.9:\n",
    "        box = {}\n",
    "        box['score'] = scores_array[i]\n",
    "        box['boundary'] = boxes_array[i]\n",
    "        box['center'] = centers[i]\n",
    "        unsorted_boxes.append(box)\n",
    "sorted_boxes = sorted(unsorted_boxes, key=lambda d: (d['center'][0],d['center'][1]))\n"
   ]
  },
  {
   "cell_type": "code",
   "execution_count": 60,
   "id": "c7889644",
   "metadata": {},
   "outputs": [
    {
     "data": {
      "text/plain": [
       "'../21S1_URECA_FYP/ST2020-01/IMG_5878.PNG'"
      ]
     },
     "execution_count": 60,
     "metadata": {},
     "output_type": "execute_result"
    }
   ],
   "source": [
    "d['file_name']"
   ]
  },
  {
   "cell_type": "code",
   "execution_count": null,
   "id": "16b42d1a",
   "metadata": {},
   "outputs": [],
   "source": []
  }
 ],
 "metadata": {
  "kernelspec": {
   "display_name": "ureca",
   "language": "python",
   "name": "ureca"
  },
  "language_info": {
   "codemirror_mode": {
    "name": "ipython",
    "version": 3
   },
   "file_extension": ".py",
   "mimetype": "text/x-python",
   "name": "python",
   "nbconvert_exporter": "python",
   "pygments_lexer": "ipython3",
   "version": "3.8.12"
  }
 },
 "nbformat": 4,
 "nbformat_minor": 5
}
